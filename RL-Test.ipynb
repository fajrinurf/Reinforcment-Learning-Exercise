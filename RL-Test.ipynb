{
 "cells": [
  {
   "attachments": {},
   "cell_type": "markdown",
   "metadata": {},
   "source": [
    "# **Reinforcement Learning: Pengenalan**"
   ]
  },
  {
   "attachments": {},
   "cell_type": "markdown",
   "metadata": {},
   "source": [
    "Di dalam Tutorial ini, akan menjelaskan penggunaan Reinforcement Learning dasar yang akan digunakan, dan juga untuk memenuhi tugas kuliah Advance Machine Learning. Referensi yang akan digunakan di dalam tutorial ini akan berbasis dari buku dan juga paper. untuk kasus yang akan dijelaskan disini adalah penggunaan Reinforcement Learning yang akan menerapkan metode Q-learning tabular klasik untuk [Frozen Lake](https://gym.openai.com/envs/FrozenLake-v0/) klasik Puzzle. \n",
    "\n",
    "![alt text](https://media2.giphy.com/media/46ib09ZL1SdWuREnj3/giphy.gif?cid=3640f6095c6e92762f3446634d90bc65) ![alt text](https://media0.giphy.com/media/d9QiBcfzg64Io/200w.webp?cid=3640f6095c6e93e92f30655873731752)![alt text](https://i.gifer.com/GpAY.gif)\n",
    "\n",
    "Reinforcement Learning bisa beroperasi dengan melakukan indentifikasi pola yang akan digunakan secara optimal, di dalam konteks dari masalah masalah yang diberikan, sehingga agen pada reinforcement learning dapat membuat keputusan terbaik untuk langkah berikutnya."
   ]
  },
  {
   "attachments": {},
   "cell_type": "markdown",
   "metadata": {},
   "source": [
    "## **Q-Learning**"
   ]
  },
  {
   "cell_type": "code",
   "execution_count": null,
   "metadata": {},
   "outputs": [],
   "source": []
  },
  {
   "attachments": {},
   "cell_type": "markdown",
   "metadata": {},
   "source": [
    "### Tabular Q-Learning with Frozen Lake"
   ]
  },
  {
   "cell_type": "code",
   "execution_count": 1,
   "metadata": {},
   "outputs": [
    {
     "name": "stdout",
     "output_type": "stream",
     "text": [
      "gamma:  0.8\n",
      "Value iteration policy: [1 3 0 3 0 0 0 0 3 1 1 1 0 2 2 0]\n",
      "\n",
      "\n",
      "policy: [0 0 0 0 0 0 0 0 0 0 0 0 0 0 0 0]\n",
      "\n",
      "V: 1\n",
      "[[0.         0.         0.         0.        ]\n",
      " [0.         0.         0.         0.        ]\n",
      " [0.         0.         0.         0.33333333]\n",
      " [0.         0.         0.         0.        ]]\n",
      "V: 2\n",
      "[[0.         0.         0.         0.        ]\n",
      " [0.         0.         0.         0.        ]\n",
      " [0.         0.         0.         0.33333333]\n",
      " [0.         0.         0.         0.        ]]\n",
      "\n",
      "policy: [0 0 0 0 0 0 0 0 0 0 1 1 0 0 1 0]\n",
      "\n",
      "V: 3\n",
      "[[0.         0.         0.         0.        ]\n",
      " [0.         0.         0.         0.        ]\n",
      " [0.         0.         0.         0.33333333]\n",
      " [0.         0.         0.33333333 0.        ]]\n",
      "V: 4\n",
      "[[0.         0.         0.         0.        ]\n",
      " [0.         0.         0.         0.        ]\n",
      " [0.         0.         0.17777778 0.46962963]\n",
      " [0.         0.         0.42222222 0.        ]]\n",
      "V: 5\n",
      "[[0.         0.         0.         0.        ]\n",
      " [0.         0.         0.04740741 0.        ]\n",
      " [0.         0.         0.23782716 0.52198848]\n",
      " [0.         0.         0.44592593 0.        ]]\n",
      "V: 6\n",
      "[[0.         0.         0.01264198 0.00337119]\n",
      " [0.         0.         0.06679177 0.        ]\n",
      " [0.         0.         0.25811051 0.54135973]\n",
      " [0.         0.         0.45224691 0.        ]]\n",
      "V: 7\n",
      "[[0.         0.         0.02118233 0.00654761]\n",
      " [0.         0.         0.07447809 0.        ]\n",
      " [0.         0.         0.26496177 0.5483524 ]\n",
      " [0.         0.         0.45393251 0.        ]]\n",
      "V: 8\n",
      "[[0.         0.         0.02550945 0.00854855]\n",
      " [0.         0.         0.07745899 0.        ]\n",
      " [0.         0.         0.26727598 0.55083423]\n",
      " [0.         0.         0.454382   0.        ]]\n",
      "V: 9\n",
      "[[0.         0.         0.02745825 0.00960181]\n",
      " [0.         0.         0.07859579 0.        ]\n",
      " [0.         0.         0.26805766 0.55170451]\n",
      " [0.         0.         0.45450187 0.        ]]\n",
      "V: 10\n",
      "[[0.         0.         0.02828108 0.0101021 ]\n",
      " [0.         0.         0.07902366 0.        ]\n",
      " [0.         0.         0.2683217  0.55200699]\n",
      " [0.         0.         0.45453383 0.        ]]\n",
      "\n",
      "policy: [0 1 2 3 0 0 0 0 0 1 2 1 0 1 2 0]\n",
      "\n",
      "V: 11\n",
      "[[0.         0.         0.         0.        ]\n",
      " [0.         0.         0.         0.        ]\n",
      " [0.         0.         0.         0.33333333]\n",
      " [0.         0.         0.33333333 0.        ]]\n",
      "V: 12\n",
      "[[0.         0.         0.         0.        ]\n",
      " [0.         0.         0.         0.        ]\n",
      " [0.         0.         0.17777778 0.46962963]\n",
      " [0.         0.08888889 0.46962963 0.        ]]\n",
      "V: 13\n",
      "[[0.         0.         0.         0.        ]\n",
      " [0.         0.         0.04740741 0.        ]\n",
      " [0.         0.07111111 0.26311111 0.52873086]\n",
      " [0.         0.14893827 0.52873086 0.        ]]\n",
      "V: 14\n",
      "[[0.         0.         0.01264198 0.00337119]\n",
      " [0.         0.         0.07353416 0.        ]\n",
      " [0.         0.10987984 0.3015989  0.5547546 ]\n",
      " [0.         0.18071177 0.5547546  0.        ]]\n",
      "V: 15\n",
      "[[0.         0.00337119 0.02387929 0.00816578]\n",
      " [0.         0.         0.08679418 0.        ]\n",
      " [0.         0.12861618 0.31901424 0.56633836]\n",
      " [0.         0.19612437 0.56633836 0.        ]]\n",
      "V: 16\n",
      "[[0.         0.00636781 0.03169047 0.01280587]\n",
      " [0.         0.         0.09352125 0.        ]\n",
      " [0.         0.13737029 0.32698613 0.5715532 ]\n",
      " [0.         0.20332339 0.5715532  0.        ]]\n",
      "V: 17\n",
      "[[0.         0.00845079 0.03680469 0.01664438]\n",
      " [0.         0.         0.09701088 0.        ]\n",
      " [0.         0.14141587 0.33069794 0.57393364]\n",
      " [0.         0.20663376 0.57393364 0.        ]]\n",
      "V: 18\n",
      "[[0.         0.00981458 0.04012266 0.01957638]\n",
      " [0.         0.         0.09888549 0.        ]\n",
      " [0.         0.14328845 0.3324674  0.57504028]\n",
      " [0.         0.2081513  0.57504028 0.        ]]\n",
      "V: 19\n",
      "[[0.         0.01069937 0.04228921 0.02171786]\n",
      " [0.         0.         0.0999351  0.        ]\n",
      " [0.         0.14416499 0.33333751 0.57556741]\n",
      " [0.         0.20885109 0.57556741 0.        ]]\n",
      "V: 20\n",
      "[[0.         0.01127712 0.04371791 0.02324097]\n",
      " [0.         0.         0.10054811 0.        ]\n",
      " [0.         0.14458363 0.33378211 0.57582654]\n",
      " [0.         0.20917827 0.57582654 0.        ]]\n",
      "V: 21\n",
      "[[0.         0.01165811 0.04466853 0.02430679]\n",
      " [0.         0.         0.10092017 0.        ]\n",
      " [0.         0.14478943 0.33401953 0.57595895]\n",
      " [0.         0.20933461 0.57595895 0.        ]]\n",
      "V: 22\n",
      "[[0.         0.01191161 0.04530546 0.02504508]\n",
      " [0.         0.         0.10115333 0.        ]\n",
      " [0.         0.14489444 0.33415233 0.57602968]\n",
      " [0.         0.20941162 0.57602968 0.        ]]\n",
      "\n",
      "policy: [1 2 2 3 0 0 0 0 1 1 1 1 0 2 2 0]\n",
      "\n",
      "V: 23\n",
      "[[0.         0.         0.         0.        ]\n",
      " [0.         0.         0.         0.        ]\n",
      " [0.         0.         0.         0.33333333]\n",
      " [0.         0.         0.33333333 0.        ]]\n",
      "V: 24\n",
      "[[0.         0.         0.         0.        ]\n",
      " [0.         0.         0.         0.        ]\n",
      " [0.         0.         0.17777778 0.46962963]\n",
      " [0.         0.08888889 0.46962963 0.        ]]\n",
      "V: 25\n",
      "[[0.         0.         0.         0.        ]\n",
      " [0.         0.         0.04740741 0.        ]\n",
      " [0.         0.07111111 0.2694321  0.53041646]\n",
      " [0.         0.16790123 0.53041646 0.        ]]\n",
      "V: 26\n",
      "[[0.         0.         0.01264198 0.00337119]\n",
      " [0.         0.         0.07521975 0.        ]\n",
      " [0.01896296 0.12167901 0.31533652 0.55886746]\n",
      " [0.         0.21866579 0.55886746 0.        ]]\n",
      "V: 27\n",
      "[[0.         0.00337119 0.02432878 0.00828564]\n",
      " [0.00505679 0.         0.09057741 0.        ]\n",
      " [0.03750453 0.15240182 0.33870313 0.57268549]\n",
      " [0.         0.24798269 0.57268549 0.        ]]\n",
      "V: 28\n",
      "[[0.00224746 0.00738666 0.03285116 0.01317932]\n",
      " [0.01194901 0.         0.09908114 0.        ]\n",
      " [0.05064169 0.169954   0.35075333 0.57958369]\n",
      " [0.         0.26416591 0.57958369 0.        ]]\n",
      "V: 29\n",
      "[[0.0057555  0.01073008 0.03869643 0.01734802]\n",
      " [0.01822565 0.         0.10385327 0.        ]\n",
      " [0.05882552 0.17966527 0.35702204 0.58309486]\n",
      " [0.         0.27291063 0.58309486 0.        ]]\n",
      "V: 30\n",
      "[[0.00925633 0.0131804  0.04263939 0.02062278]\n",
      " [0.02301533 0.         0.10657638 0.        ]\n",
      " [0.06359754 0.18494139 0.36030163 0.58490573]\n",
      " [0.         0.27758584 0.58490573 0.        ]]\n",
      "V: 31\n",
      "[[0.01212055 0.01488528 0.04529028 0.02307622]\n",
      " [0.02632891 0.         0.10815784 0.        ]\n",
      " [0.06627705 0.1877772  0.36202364 0.58584783]\n",
      " [0.         0.28007167 0.58584783 0.        ]]\n",
      "V: 32\n",
      "[[0.0142226  0.01604682 0.04707316 0.02486016]\n",
      " [0.02848762 0.         0.10909248 0.        ]\n",
      " [0.0677478  0.1892915  0.36292991 0.58634073]\n",
      " [0.         0.2813896  0.58634073 0.        ]]\n",
      "V: 33\n",
      "[[0.01566854 0.01683199 0.04827355 0.0261317 ]\n",
      " [0.02984106 0.         0.10965426 0.        ]\n",
      " [0.06854381 0.19009689 0.36340756 0.58659954]\n",
      " [0.         0.28208726 0.58659954 0.        ]]\n",
      "V: 34\n",
      "[[0.01662442 0.01736148 0.04908253 0.02702558]\n",
      " [0.03066914 0.         0.10999736 0.        ]\n",
      " [0.06897085 0.19052418 0.36365954 0.58673576]\n",
      " [0.         0.28245626 0.58673576 0.        ]]\n",
      "\n",
      "policy: [1 3 2 3 0 0 0 0 3 1 1 1 0 2 2 0]\n",
      "\n",
      "V: 35\n",
      "[[0.         0.         0.         0.        ]\n",
      " [0.         0.         0.         0.        ]\n",
      " [0.         0.         0.         0.33333333]\n",
      " [0.         0.         0.33333333 0.        ]]\n",
      "V: 36\n",
      "[[0.         0.         0.         0.        ]\n",
      " [0.         0.         0.         0.        ]\n",
      " [0.         0.         0.17777778 0.46962963]\n",
      " [0.         0.08888889 0.46962963 0.        ]]\n",
      "V: 37\n",
      "[[0.         0.         0.         0.        ]\n",
      " [0.         0.         0.04740741 0.        ]\n",
      " [0.         0.07111111 0.2694321  0.53041646]\n",
      " [0.         0.16790123 0.53041646 0.        ]]\n",
      "V: 38\n",
      "[[0.         0.         0.01264198 0.00337119]\n",
      " [0.         0.         0.07521975 0.        ]\n",
      " [0.01896296 0.12167901 0.31533652 0.55886746]\n",
      " [0.         0.21866579 0.55886746 0.        ]]\n",
      "V: 39\n",
      "[[0.         0.00337119 0.02432878 0.00828564]\n",
      " [0.00505679 0.         0.09057741 0.        ]\n",
      " [0.038853   0.15276142 0.33879902 0.57271106]\n",
      " [0.         0.24807858 0.57271106 0.        ]]\n",
      "V: 40\n",
      "[[0.00224746 0.00798598 0.03285116 0.01317932]\n",
      " [0.0123086  0.         0.09910671 0.        ]\n",
      " [0.05437947 0.17100189 0.3510464  0.57966866]\n",
      " [0.         0.26447774 0.57966866 0.        ]]\n",
      "V: 41\n",
      "[[0.00601121 0.01249289 0.03870325 0.01734984]\n",
      " [0.01938648 0.         0.10393324 0.        ]\n",
      " [0.06527142 0.18154548 0.35756875 0.58326331]\n",
      " [0.         0.27351784 0.58326331 0.        ]]\n",
      "V: 42\n",
      "[[0.01010416 0.01634675 0.04266302 0.02063005]\n",
      " [0.02526988 0.         0.10672847 0.        ]\n",
      " [0.07255648 0.18763815 0.3611106  0.58516638]\n",
      " [0.         0.27851181 0.58516638 0.        ]]\n",
      "V: 43\n",
      "[[0.01379221 0.01941386 0.04533908 0.02309312]\n",
      " [0.02976495 0.         0.10838658 0.        ]\n",
      " [0.07732255 0.19118532 0.36307149 0.58619676]\n",
      " [0.         0.28129694 0.58619676 0.        ]]\n",
      "V: 44\n",
      "[[0.01679227 0.02174539 0.04715167 0.02489011]\n",
      " [0.03303461 0.         0.10939284 0.        ]\n",
      " [0.08041133 0.1932746  0.36417817 0.58676665]\n",
      " [0.         0.28287155 0.58676665 0.        ]]\n",
      "V: 45\n",
      "[[0.01908594 0.02346213 0.04838257 0.02617674]\n",
      " [0.03534183 0.         0.1100162  0.        ]\n",
      " [0.0824074  0.1945219  0.36481472 0.58708836]\n",
      " [0.         0.28377602 0.58708836 0.        ]]\n",
      "V: 46\n",
      "[[0.02077064 0.02469742 0.04922013 0.0270863 ]\n",
      " [0.03693863 0.         0.11040929 0.        ]\n",
      " [0.08369812 0.19527703 0.36518767 0.58727361]\n",
      " [0.         0.28430438 0.58727361 0.        ]]\n",
      "V: 47\n",
      "[[0.02197512 0.02557138 0.04979086 0.02772359]\n",
      " [0.03802983 0.         0.11066094 0.        ]\n",
      " [0.08453466 0.19574046 0.36541005 0.58738231]\n",
      " [0.         0.28461825 0.58738231 0.        ]]\n",
      "V: 48\n",
      "[[0.02282036 0.02618203 0.0501801  0.02816727]\n",
      " [0.03876929 0.         0.11082404 0.        ]\n",
      " [0.08507851 0.19602848 0.36554483 0.58744724]\n",
      " [0.         0.28480774 0.58744724 0.        ]]\n",
      "\n",
      "Policy iteration policy: [1 3 2 3 0 0 0 0 3 1 1 1 0 2 2 0]\n",
      "\n",
      "------------------------\n",
      "END\n",
      "------------------------\n"
     ]
    }
   ],
   "source": [
    "import gymnasium as gym\n",
    "import numpy as np\n",
    "\n",
    "# You need this part\n",
    "# S:Start, F:Frozen, H:Hole, G:Goal\n",
    "map = [\"SFFF\", \"FHFH\", \"FFFF\", \"HFFG\"]\n",
    "# is_slippery=True means stochastic and is_slippery=False means deterministic\n",
    "env = gym.make('FrozenLake-v1', render_mode=\"human\", desc=map, map_name=\"4x4\", is_slippery=True)\n",
    "env.reset()\n",
    "env.render()\n",
    "\n",
    "# You need to find the policy using both value iteration and policy iteration\n",
    "# You may not need this part!\n",
    "action = [\"left\", \"down\", \"right\", \"up\"]\n",
    "ncols = 4\n",
    "nrows = 4\n",
    "e = 0.001\n",
    "max_iterations = 1000 #  maximum iterations if there is an infinite loop\n",
    "\n",
    "# GIVEN\n",
    "# A sample policy to make the following while loop works\n",
    "# policy = [1, 2, 1, 0, 1, 0, 1, 0, 2, 1, 1, 1, 0, 2, 2, 0]\n",
    "\n",
    "#  Initializing the variables\n",
    "n_states = env.observation_space.n # the total number of states in the environment\n",
    "n_actions = env.action_space.n # number of possible actions in the environment\n",
    "gamma_list = [0.8] # substitute with ('0.5' and '1')\n",
    "\n",
    "'''\n",
    "This function implements the value iteration algorithm to compute the optimal policy.\n",
    "\n",
    "It initializes the state value function (V) for all states to 0 and then iteratively updates the values until they converge to the optimal values.\n",
    "The loop continues until the maximum change in any value is less than the error threshold (e).\n",
    "\n",
    "Parameters\n",
    "----------\n",
    "env : an object of a Gym environment class\n",
    "    Given environment\n",
    "\n",
    "gamma : float\n",
    "    Discount factor\n",
    "\n",
    "e : float\n",
    "    Error threshold\n",
    "\n",
    "Returns\n",
    "-------\n",
    "policy\n",
    "    1-D NumPy array of integers\n",
    "    Each element in the array represents the best action to take in the corresponding state to maximize the expected cumulative reward\n",
    "    The optimal policy\n",
    "\n",
    "'''\n",
    "def value_iteration(env, gamma, e):\n",
    "    V = np.zeros(n_states)\n",
    "\n",
    "    # check for convergence\n",
    "    # runs until 'delta' is less than a predefined value 'e'\n",
    "    while True:\n",
    "        delta = 0   # the maximum absolute difference between the old value of a state v and the new value V[s] computed in the current iteration\n",
    "        for s in range(n_states):\n",
    "            v = V[s]\n",
    "            q_vals = np.zeros(n_actions)\n",
    "            for a in range(n_actions):\n",
    "                for p, s_next, r, done in env.P[s][a]:\n",
    "                    q_vals[a] += p * (r + gamma * V[s_next])\n",
    "                V[s] = max(q_vals)\n",
    "            delta = max(delta, abs(v - V[s]))\n",
    "        if delta < e:\n",
    "            break\n",
    "    policy = np.zeros(n_states, dtype=int)\n",
    "    for s in range(n_states):\n",
    "        q_vals = np.zeros(n_actions)\n",
    "        for a in range(n_actions):\n",
    "            for p, s_next, r, done in env.P[s][a]:\n",
    "                q_vals[a] += p * (r + gamma * V[s_next])              \n",
    "            policy[s] = np.argmax(q_vals)\n",
    "    return policy\n",
    "\n",
    "'''\n",
    "This function implements the policy iteration algorithm to compute the optimal policy.\n",
    "\n",
    "It initializes a random policy for all states, then iteratively evaluates and improves the policy until convergence.\n",
    "In the evaluation step, it computes the state values for the given policy until they converge to the optimal values.\n",
    "In the improvement step, it updates the policy for each state by selecting the action that maximizes the expected value of the next state.\n",
    "\n",
    "Parameters\n",
    "----------\n",
    "env : an object of a Gym environment class\n",
    "    Given environment\n",
    "\n",
    "gamma : float\n",
    "    Discount factor\n",
    "\n",
    "e : float\n",
    "    Error threshold\n",
    "\n",
    "Returns\n",
    "-------\n",
    "policy\n",
    "    1-D NumPy array of integers\n",
    "    Each element in the array represents the best action to take in the corresponding state to maximize the expected cumulative reward.\n",
    "    The optimal policy.\n",
    "\n",
    "'''\n",
    "def policy_iteration(env, gamma, e):\n",
    "    num = 0 # to check for the iterations\n",
    "    policy = np.zeros(n_states, dtype=int)\n",
    "    print()\n",
    "    print(\"policy:\", policy) # Add print statement to see policy at each step\n",
    "    print() \n",
    "    while True:\n",
    "        V = np.zeros(n_states)\n",
    "        while True:\n",
    "            delta = 0\n",
    "            #if num > max_iterations:   # stops iteration at 1000 but the GUI hangs\n",
    "            #    break                \n",
    "            for s in range(n_states):\n",
    "                v = V[s]\n",
    "                a = policy[s]\n",
    "                q_val = 0\n",
    "                for p, s_next, r, done in env.P[s][a]:\n",
    "                    q_val += p * (r + gamma * V[s_next])\n",
    "                V[s] = q_val\n",
    "                delta = max(delta, abs(v - V[s]))\n",
    "            num += 1 # increment to keep count\n",
    "            print(\"V: \" + str(num))\n",
    "            print(V.reshape(4, 4)) # Add print statement to see V values at each step\n",
    "            if delta < e:\n",
    "                break\n",
    "        policy_stable = True\n",
    "\n",
    "        # check for convergence\n",
    "        # old policy at each state is saved in 'old_action', and then the Q-values for each action at the state are evaluated using the updated \n",
    "        # value function 'V'. The policy is then updated to choose the action with the highest Q-value, and if the updated policy at any state \n",
    "        # is different from the old policy, then policy_stable is set to False.\n",
    "        for s in range(n_states):\n",
    "            old_action = policy[s]\n",
    "            q_vals = np.zeros(n_actions)\n",
    "            for a in range(n_actions):\n",
    "                for p, s_next, r, done in env.P[s][a]:\n",
    "                    q_vals[a] += p * (r + gamma * V[s_next])\n",
    "            policy[s] = np.argmax(q_vals)\n",
    "            if old_action != policy[s]:\n",
    "                policy_stable = False\n",
    "        if policy_stable: # if 'policy_stable' remains True after the loop, then the policy is considered to have converged and the iteration loop is broken\n",
    "            break\n",
    "        print()\n",
    "        print(\"policy:\", policy) # Add print statement to see policy at each step\n",
    "        print()  \n",
    "    return policy\n",
    "\n",
    "# Loop to print out the optimal policies:\n",
    "# Both policies are represented as arrays of integers, with each index corresponding to a state in the environment and the value at that \n",
    "# index representing the action to be taken in that state according to the optimal policy\n",
    "for gamma in gamma_list:\n",
    "    print(\"gamma: \", gamma)\n",
    "    value_policy = value_iteration(env, gamma, e) #the optimal policy obtained by running the value iteration algorithm on the environment\n",
    "    print(\"Value iteration policy:\", value_policy)\n",
    "    print()\n",
    "    policy_policy = policy_iteration(env, gamma, e) #the optimal policy obtained by running the policy iteration algorithm on the environmeny\n",
    "    print() \n",
    "    print(\"Policy iteration policy:\", policy_policy)\n",
    "    print()\n",
    "    print(\"------------------------\")\n",
    "\n",
    "\n",
    "# GIVEN\n",
    "# This part uses the found policy to interact with the environment.\n",
    "# You don't need to change anything here.\n",
    "\n",
    "s = 0\n",
    "goal = ncols * nrows - 1\n",
    "while s != goal:\n",
    "    a = value_policy[s]\n",
    "    s, r, t, f, p = env.step(a)\n",
    "    if t == True and s != goal:\n",
    "        env.reset()\n",
    "        s = 0\n",
    "print(\"END\")\n",
    "print(\"------------------------\")"
   ]
  },
  {
   "cell_type": "code",
   "execution_count": 2,
   "metadata": {},
   "outputs": [
    {
     "name": "stdout",
     "output_type": "stream",
     "text": [
      "gamma:  0.8\n",
      "Value iteration policy: [1 3 2 3 0 0 0 0 3 1 1 1 0 2 2 0]\n",
      "\n",
      "\n",
      "Policy iteration policy: [1 3 2 3 0 0 0 0 3 1 1 1 0 2 2 0]\n",
      "\n",
      "------------------------\n",
      "END\n",
      "------------------------\n"
     ]
    }
   ],
   "source": [
    "import gymnasium as gym\n",
    "import numpy as np\n",
    "\n",
    "# Mendefinisikan peta lingkungan FrozenLake\n",
    "map = [\"SFFF\", \"FHFH\", \"FFFF\", \"HFFG\"]\n",
    "# Membuat lingkungan FrozenLake dengan peta yang telah ditentukan\n",
    "env = gym.make('FrozenLake-v1', render_mode=\"human\", desc=map, map_name=\"4x4\", is_slippery=True)\n",
    "# Mereset lingkungan\n",
    "env.reset()\n",
    "# Menampilkan lingkungan\n",
    "env.render()\n",
    "\n",
    "# Mendefinisikan beberapa variabel yang dibutuhkan\n",
    "gamma_list = [0.8] # Faktor diskon\n",
    "ncols = 4 # Jumlah kolom pada peta lingkungan\n",
    "nrows = 4 # Jumlah baris pada peta lingkungan\n",
    "e = 0.001 # Batas kesalahan\n",
    "n_states = env.observation_space.n # Jumlah total state dalam lingkungan\n",
    "n_actions = env.action_space.n # Jumlah total aksi yang mungkin dalam lingkungan\n",
    "\n",
    "def value_iteration(env, gamma, e):\n",
    "    # Inisialisasi fungsi nilai state (V) untuk semua state menjadi 0\n",
    "    V = np.zeros(n_states)\n",
    "\n",
    "    # Loop sampai konvergen\n",
    "    while True:\n",
    "        delta = 0\n",
    "        for s in range(n_states):\n",
    "            v = V[s]\n",
    "            q_vals = np.zeros(n_actions)\n",
    "            for a in range(n_actions):\n",
    "                for p, s_next, r, done in env.P[s][a]:\n",
    "                    q_vals[a] += p * (r + gamma * V[s_next])\n",
    "            V[s] = max(q_vals)\n",
    "            delta = max(delta, abs(v - V[s]))\n",
    "        if delta < e:\n",
    "            break\n",
    "\n",
    "    # Menghasilkan policy optimal berdasarkan fungsi nilai state (V)\n",
    "    policy = np.zeros(n_states, dtype=int)\n",
    "    for s in range(n_states):\n",
    "        q_vals = np.zeros(n_actions)\n",
    "        for a in range(n_actions):\n",
    "            for p, s_next, r, done in env.P[s][a]:\n",
    "                q_vals[a] += p * (r + gamma * V[s_next])\n",
    "        policy[s] = np.argmax(q_vals)\n",
    "\n",
    "    return policy\n",
    "\n",
    "def policy_iteration(env, gamma, e):\n",
    "    # Inisialisasi policy secara acak\n",
    "    policy = np.zeros(n_states, dtype=int)\n",
    "\n",
    "    # Loop sampai konvergen\n",
    "    while True:\n",
    "        V = np.zeros(n_states)\n",
    "        while True:\n",
    "            delta = 0\n",
    "            for s in range(n_states):\n",
    "                v = V[s]\n",
    "                a = policy[s]\n",
    "                q_val = 0\n",
    "                for p, s_next, r, done in env.P[s][a]:\n",
    "                    q_val += p * (r + gamma * V[s_next])\n",
    "                V[s] = q_val\n",
    "                delta = max(delta, abs(v - V[s]))\n",
    "            if delta < e:\n",
    "                break\n",
    "\n",
    "        # Memperbaiki policy berdasarkan fungsi nilai state (V)\n",
    "        policy_stable = True\n",
    "        for s in range(n_states):\n",
    "            old_action = policy[s]\n",
    "            q_vals = np.zeros(n_actions)\n",
    "            for a in range(n_actions):\n",
    "                for p, s_next, r, done in env.P[s][a]:\n",
    "                    q_vals[a] += p * (r + gamma * V[s_next])\n",
    "            policy[s] = np.argmax(q_vals)\n",
    "            if old_action != policy[s]:\n",
    "                policy_stable = False\n",
    "        if policy_stable:\n",
    "            break\n",
    "\n",
    "    return policy\n",
    "\n",
    "# Menghitung policy optimal dengan Value Iteration dan Policy Iteration\n",
    "\n",
    "for gamma in gamma_list:\n",
    "    print(\"gamma: \", gamma)\n",
    "    value_policy = value_iteration(env, gamma, e) # Menghitung policy optimal dengan Value Iteration\n",
    "    print(\"Value iteration policy:\", value_policy)\n",
    "    print()\n",
    "    policy_policy = policy_iteration(env, gamma, e) # Menghitung policy optimal dengan Policy Iteration\n",
    "    print() \n",
    "    print(\"Policy iteration policy:\", policy_policy)\n",
    "    print()\n",
    "    print(\"------------------------\")\n",
    "\n",
    "# Menggunakan policy optimal untuk berinteraksi dengan lingkungan\n",
    "s = 0\n",
    "goal = ncols * nrows - 1\n",
    "while s != goal:\n",
    "    a = value_policy[s]\n",
    "    s, r, t, f, p = env.step(a)\n",
    "    if t == True and s != goal:\n",
    "        env.reset()\n",
    "        s = 0\n",
    "print(\"END\")\n",
    "print(\"------------------------\")\n"
   ]
  },
  {
   "cell_type": "code",
   "execution_count": 18,
   "metadata": {},
   "outputs": [
    {
     "name": "stdout",
     "output_type": "stream",
     "text": [
      "gamma:  0.8\n",
      "Value iteration policy: [1 3 2 3 0 0 0 0 3 1 1 1 0 2 2 0]\n",
      "\n",
      "\n",
      "Policy iteration policy: [1 3 2 3 0 0 0 0 3 1 1 1 0 2 2 0]\n",
      "\n"
     ]
    },
    {
     "ename": "TypeError",
     "evalue": "'int' object is not subscriptable",
     "output_type": "error",
     "traceback": [
      "\u001b[1;31m---------------------------------------------------------------------------\u001b[0m",
      "\u001b[1;31mTypeError\u001b[0m                                 Traceback (most recent call last)",
      "Cell \u001b[1;32mIn[18], line 70\u001b[0m\n\u001b[0;32m     68\u001b[0m \u001b[39mprint\u001b[39m(\u001b[39m\"\u001b[39m\u001b[39mPolicy iteration policy:\u001b[39m\u001b[39m\"\u001b[39m, policy_policy)\n\u001b[0;32m     69\u001b[0m \u001b[39mprint\u001b[39m()\n\u001b[1;32m---> 70\u001b[0m q_policy \u001b[39m=\u001b[39m q_learning(env, alpha, gamma, epsilon, n_episodes) \u001b[39m# Menghitung policy optimal dengan Q-Learning\u001b[39;00m\n\u001b[0;32m     71\u001b[0m \u001b[39mprint\u001b[39m(\u001b[39m\"\u001b[39m\u001b[39mQ-Learning policy:\u001b[39m\u001b[39m\"\u001b[39m, q_policy)\n\u001b[0;32m     72\u001b[0m \u001b[39mprint\u001b[39m()\n",
      "Cell \u001b[1;32mIn[18], line 40\u001b[0m, in \u001b[0;36mq_learning\u001b[1;34m(env, alpha, gamma, epsilon, n_episodes)\u001b[0m\n\u001b[0;32m     38\u001b[0m     action \u001b[39m=\u001b[39m env\u001b[39m.\u001b[39maction_space\u001b[39m.\u001b[39msample() \u001b[39m# Eksplorasi aksi secara acak\u001b[39;00m\n\u001b[0;32m     39\u001b[0m \u001b[39melse\u001b[39;00m:\n\u001b[1;32m---> 40\u001b[0m     action \u001b[39m=\u001b[39m np\u001b[39m.\u001b[39margmax(Q[\u001b[39mint\u001b[39m(state[\u001b[39m0\u001b[39;49m])]) \u001b[39m# Eksploitasi aksi yang memiliki nilai Q maksimum\u001b[39;00m\n\u001b[0;32m     42\u001b[0m \u001b[39m# Melakukan aksi dan mendapatkan hasilnya\u001b[39;00m\n\u001b[0;32m     43\u001b[0m next_state, reward, done, info, policy \u001b[39m=\u001b[39m env\u001b[39m.\u001b[39mstep(action)\n",
      "\u001b[1;31mTypeError\u001b[0m: 'int' object is not subscriptable"
     ]
    }
   ],
   "source": [
    "import gymnasium as gym\n",
    "import numpy as np\n",
    "\n",
    "# Mendefinisikan peta lingkungan FrozenLake\n",
    "map = [\"SFFF\", \"FHFH\", \"FFFF\", \"HFFG\"]\n",
    "# Membuat lingkungan FrozenLake dengan peta yang telah ditentukan\n",
    "env = gym.make('FrozenLake-v1', render_mode=\"human\", desc=map, map_name=\"4x4\", is_slippery=True)\n",
    "# Mereset lingkungan\n",
    "env.reset()\n",
    "# Menampilkan lingkungan\n",
    "env.render()\n",
    "\n",
    "# Mendefinisikan beberapa variabel yang dibutuhkan\n",
    "gamma_list = [0.8] # Faktor diskon\n",
    "ncols = 4 # Jumlah kolom pada peta lingkungan\n",
    "nrows = 4 # Jumlah baris pada peta lingkungan\n",
    "e = 0.001 # Batas kesalahan\n",
    "n_states = env.observation_space.n # Jumlah total state dalam lingkungan\n",
    "n_actions = env.action_space.n # Jumlah total aksi yang mungkin dalam lingkungan\n",
    "n_episodes = 5000 # Jumlah episode untuk Q-Learning\n",
    "alpha = 0.5 # Learning rate untuk Q-Learning\n",
    "epsilon = 0.1 # Faktor eksplorasi untuk Q-Learning\n",
    "\n",
    "# Fungsi untuk implementasi Q-Learning\n",
    "def q_learning(env, alpha, gamma, epsilon, n_episodes):\n",
    "    # Inisialisasi tabel Q dengan nilai 0\n",
    "    Q = np.zeros([n_states, n_actions])\n",
    "\n",
    "    # Loop untuk setiap episode\n",
    "    for i_episode in range(n_episodes):\n",
    "        # Mereset state\n",
    "        state = env.reset()\n",
    "\n",
    "        # Loop untuk setiap langkah dalam episode\n",
    "        for t in range(100):\n",
    "            # Memilih aksi dengan strategi epsilon-greedy\n",
    "            if np.random.uniform(0, 1) < epsilon:\n",
    "                action = env.action_space.sample() # Eksplorasi aksi secara acak\n",
    "            else:\n",
    "                action = np.argmax(Q[int(state[0])]) # Eksploitasi aksi yang memiliki nilai Q maksimum\n",
    "\n",
    "            # Melakukan aksi dan mendapatkan hasilnya\n",
    "            next_state, reward, done, info, policy = env.step(action)\n",
    "\n",
    "            # Update nilai Q\n",
    "            Q[int(state[0]), action] = Q[int(state[0]), action] + alpha * (reward + gamma * np.max(Q[int(next_state)]) - Q[int(state[0]), action])\n",
    "\n",
    "            # Update state\n",
    "            state = next_state\n",
    "\n",
    "            # Jika episode selesai, break loop\n",
    "            if done:\n",
    "                break\n",
    "\n",
    "    # Menghasilkan policy optimal berdasarkan tabel Q\n",
    "    policy = np.argmax(Q, axis=1)\n",
    "\n",
    "    return policy\n",
    "\n",
    "# Menghitung policy optimal dengan Value Iteration, Policy Iteration, dan Q-Learning\n",
    "for gamma in gamma_list:\n",
    "    print(\"gamma: \", gamma)\n",
    "    value_policy = value_iteration(env, gamma, e) # Menghitung policy optimal dengan Value Iteration\n",
    "    print(\"Value iteration policy:\", value_policy)\n",
    "    print()\n",
    "    policy_policy = policy_iteration(env, gamma, e) # Menghitung policy optimal dengan Policy Iteration\n",
    "    print() \n",
    "    print(\"Policy iteration policy:\", policy_policy)\n",
    "    print()\n",
    "    q_policy = q_learning(env, alpha, gamma, epsilon, n_episodes) # Menghitung policy optimal dengan Q-Learning\n",
    "    print(\"Q-Learning policy:\", q_policy)\n",
    "    print()\n",
    "    print(\"------------------------\")\n",
    "\n",
    "# Menggunakan policy optimal untuk berinteraksi dengan lingkungan\n",
    "# Menggunakan policy optimal untuk berinteraksi dengan lingkungan\n",
    "s = 0\n",
    "goal = ncols * nrows - 1\n",
    "while s != goal:\n",
    "    a = value_policy[s]\n",
    "    s, r, t, f, p = env.step(a)\n",
    "    if t == True and s != goal:\n",
    "        env.reset()\n",
    "        s = 0\n",
    "print(\"END\")\n",
    "print(\"------------------------\")\n"
   ]
  },
  {
   "attachments": {},
   "cell_type": "markdown",
   "metadata": {},
   "source": [
    "### FrozenLake"
   ]
  },
  {
   "cell_type": "code",
   "execution_count": 2,
   "metadata": {},
   "outputs": [],
   "source": [
    "import gym\n",
    "import gym.envs.toy_text.frozen_lake\n",
    "import gym.wrappers\n",
    "import torch\n",
    "import torch.nn as nn\n",
    "import torch.optim as optim\n",
    "from collections import namedtuple\n",
    "import numpy as np\n",
    "from tensorboardX import SummaryWriter"
   ]
  },
  {
   "cell_type": "code",
   "execution_count": 3,
   "metadata": {},
   "outputs": [],
   "source": [
    "HIDDEN_SIZE = 128\n",
    "BATCH_SIZE = 100\n",
    "PERCENTILE = 30\n",
    "GAMMA = 0.9"
   ]
  },
  {
   "cell_type": "code",
   "execution_count": 4,
   "metadata": {},
   "outputs": [],
   "source": [
    "### wrapper for discrete sample space\n",
    "class DiscreteOneHotWrapper(gym.ObservationWrapper):\n",
    "  def __init__(self,env):\n",
    "    super(DiscreteOneHotWrapper,self).__init__(env)\n",
    "    assert isinstance(env.observation_space,gym.spaces.Discrete)\n",
    "    self.observation_space = gym.spaces.Box(0.0,1.0,(env.observation_space.n,),dtype=np.float32)\n",
    "  \n",
    "  #overriden\n",
    "  def observation(self,observation):\n",
    "    result = np.copy(self.observation_space.low)\n",
    "    result[observation] = 1.0\n",
    "    return result"
   ]
  },
  {
   "cell_type": "code",
   "execution_count": 5,
   "metadata": {},
   "outputs": [],
   "source": [
    "### simple neural network\n",
    "class Net(nn.Module):\n",
    "  def __init__(self,obs_size,hidden_size,action_size):\n",
    "    super(Net,self).__init__()\n",
    "    self.network = nn.Sequential(\n",
    "        nn.Linear(obs_size,hidden_size),\n",
    "        nn.ReLU(),\n",
    "        nn.Linear(hidden_size,action_size)\n",
    "    )\n",
    "  ## overriden\n",
    "  def forward(self,x):\n",
    "    return self.network(x)"
   ]
  },
  {
   "cell_type": "code",
   "execution_count": 6,
   "metadata": {},
   "outputs": [],
   "source": [
    "\n",
    "# classes for tupple\n",
    "Episode = namedtuple(\"Episode\",[\"reward\",\"step\"])\n",
    "Episode_step = namedtuple(\"EpisodeStep\",[\"action\",\"observation\"])"
   ]
  },
  {
   "cell_type": "code",
   "execution_count": 7,
   "metadata": {},
   "outputs": [],
   "source": [
    "### training on network + random_walk for the data\n",
    "def iteration_batch(net,env,batch_size):\n",
    "  episode_reward = 0.0\n",
    "  batch = []\n",
    "  episode_step = []\n",
    "  obs = env.reset()\n",
    "  softmax = nn.Softmax(dim=1)\n",
    "  # 3 elements for making a dataset for RL\n",
    "  while True:\n",
    "    obs_vector = torch.FloatTensor([obs])\n",
    "    action_score = net(obs_vector)\n",
    "    action_probability_vector = softmax(action_score)\n",
    "    action_probability = action_probability_vector.data.numpy()[0]\n",
    "    action = np.random.choice(len(action_probability),p=action_probability)\n",
    "    next_obs, reward, is_done, _ = env.step(action)\n",
    "    episode_reward += reward\n",
    "    episode_step.append(Episode_step(action=action,observation=obs))\n",
    "    if is_done:\n",
    "      batch.append(Episode(reward=reward,step=episode_step))\n",
    "      episode_reward = 0.0\n",
    "      episode_step = []\n",
    "      next_obs = env.reset() #important\n",
    "      if len(batch) == batch_size:\n",
    "        yield batch\n",
    "        batch = []\n",
    "      \n",
    "    obs = next_obs\n",
    "    "
   ]
  },
  {
   "cell_type": "code",
   "execution_count": 8,
   "metadata": {},
   "outputs": [],
   "source": [
    "## filter for elite batch\n",
    "def filter_batch(batch,percentile):\n",
    "  \n",
    "  reward = list(map(lambda sample: sample.reward * (GAMMA**len(sample.step)),batch))\n",
    "\n",
    "  reward_bound = np.percentile(reward,percentile)\n",
    "\n",
    "  train_obs = []\n",
    "  train_action = []\n",
    "  train_elite = []\n",
    "\n",
    "  for example,discount_reward in zip(batch,reward):\n",
    "\n",
    "    if discount_reward > reward_bound:\n",
    "      train_obs.extend(list(map(lambda step : step.observation,example.step)))\n",
    "      train_action.extend(list(map(lambda step : step.action,example.step)))\n",
    "      train_elite.append(example)\n",
    "\n",
    "  return train_elite,train_obs,train_action,reward_bound\n"
   ]
  },
  {
   "cell_type": "code",
   "execution_count": 9,
   "metadata": {},
   "outputs": [
    {
     "name": "stderr",
     "output_type": "stream",
     "text": [
      "C:\\Users\\Fajri\\AppData\\Local\\Temp\\ipykernel_40428\\1453775031.py:10: UserWarning: Creating a tensor from a list of numpy.ndarrays is extremely slow. Please consider converting the list to a single numpy.ndarray with numpy.array() before converting to a tensor. (Triggered internally at ..\\torch\\csrc\\utils\\tensor_new.cpp:248.)\n",
      "  obs_vector = torch.FloatTensor([obs])\n"
     ]
    },
    {
     "ename": "ValueError",
     "evalue": "expected sequence of length 16 at dim 2 (got 1)",
     "output_type": "error",
     "traceback": [
      "\u001b[1;31m---------------------------------------------------------------------------\u001b[0m",
      "\u001b[1;31mValueError\u001b[0m                                Traceback (most recent call last)",
      "Cell \u001b[1;32mIn[9], line 12\u001b[0m\n\u001b[0;32m      9\u001b[0m softmax \u001b[39m=\u001b[39m nn\u001b[39m.\u001b[39mSoftmax(dim\u001b[39m=\u001b[39m\u001b[39m1\u001b[39m)\n\u001b[0;32m     10\u001b[0m writer \u001b[39m=\u001b[39m SummaryWriter(comment\u001b[39m=\u001b[39m\u001b[39m\"\u001b[39m\u001b[39m-frozenlake-nonslippery\u001b[39m\u001b[39m\"\u001b[39m)\n\u001b[1;32m---> 12\u001b[0m \u001b[39mfor\u001b[39;00m iter_no , batch \u001b[39min\u001b[39;00m \u001b[39menumerate\u001b[39m(iteration_batch(net,env,BATCH_SIZE)):\n\u001b[0;32m     13\u001b[0m   reward_mean \u001b[39m=\u001b[39m \u001b[39mfloat\u001b[39m(np\u001b[39m.\u001b[39mmean(\u001b[39mlist\u001b[39m(\u001b[39mmap\u001b[39m(\u001b[39mlambda\u001b[39;00m step : step\u001b[39m.\u001b[39mreward,batch))))\n\u001b[0;32m     14\u001b[0m   full_batch,train_obs,train_action,reward_bound \u001b[39m=\u001b[39m filter_batch(full_batch\u001b[39m+\u001b[39mbatch,PERCENTILE)\n",
      "Cell \u001b[1;32mIn[7], line 10\u001b[0m, in \u001b[0;36miteration_batch\u001b[1;34m(net, env, batch_size)\u001b[0m\n\u001b[0;32m      8\u001b[0m \u001b[39m# 3 elements for making a dataset for RL\u001b[39;00m\n\u001b[0;32m      9\u001b[0m \u001b[39mwhile\u001b[39;00m \u001b[39mTrue\u001b[39;00m:\n\u001b[1;32m---> 10\u001b[0m   obs_vector \u001b[39m=\u001b[39m torch\u001b[39m.\u001b[39;49mFloatTensor([obs])\n\u001b[0;32m     11\u001b[0m   action_score \u001b[39m=\u001b[39m net(obs_vector)\n\u001b[0;32m     12\u001b[0m   action_probability_vector \u001b[39m=\u001b[39m softmax(action_score)\n",
      "\u001b[1;31mValueError\u001b[0m: expected sequence of length 16 at dim 2 (got 1)"
     ]
    }
   ],
   "source": [
    "## training pharse\n",
    "full_batch = []\n",
    "env = gym.envs.toy_text.frozen_lake.FrozenLakeEnv(is_slippery=False)\n",
    "env = gym.wrappers.TimeLimit(env,max_episode_steps=100)\n",
    "env = DiscreteOneHotWrapper(env)\n",
    "net = Net(env.observation_space.shape[0],HIDDEN_SIZE,env.action_space.n)\n",
    "optimizer = optim.Adam(params=net.parameters(),lr=0.01)\n",
    "objective = nn.CrossEntropyLoss()\n",
    "softmax = nn.Softmax(dim=1)\n",
    "writer = SummaryWriter(comment=\"-frozenlake-nonslippery\")\n",
    "\n",
    "for iter_no , batch in enumerate(iteration_batch(net,env,BATCH_SIZE)):\n",
    "  reward_mean = float(np.mean(list(map(lambda step : step.reward,batch))))\n",
    "  full_batch,train_obs,train_action,reward_bound = filter_batch(full_batch+batch,PERCENTILE)\n",
    "  if not full_batch:\n",
    "    continue\n",
    "  obs_vector = torch.FloatTensor(train_obs)\n",
    "  action_vector = torch.LongTensor(train_action)\n",
    "  full_batch = full_batch[-500:]\n",
    "\n",
    "  optimizer.zero_grad()\n",
    "  action_probability = net(obs_vector)\n",
    "  \n",
    "  loss_vector = objective(action_probability,action_vector)\n",
    "  loss_vector.backward()\n",
    "  optimizer.step()\n",
    "  print(\"%d: loss=%.3f, reward_mean=%.1f, reward_bound=%.1f\" % (\n",
    "          iter_no, loss_vector.item(), reward_mean, reward_bound))\n",
    "  \n",
    "  writer.add_scalar(\"loss\", loss_vector.item(), iter_no)\n",
    "  writer.add_scalar(\"reward_bound\", reward_bound, iter_no)\n",
    "  writer.add_scalar(\"reward_mean\", reward_mean, iter_no)\n",
    "  if reward_mean > 0.89:\n",
    "      print(\"Solved!\")\n",
    "      break\n",
    "  writer.close()"
   ]
  },
  {
   "attachments": {},
   "cell_type": "markdown",
   "metadata": {},
   "source": [
    "### Sarsa"
   ]
  },
  {
   "cell_type": "code",
   "execution_count": 10,
   "metadata": {},
   "outputs": [
    {
     "name": "stdout",
     "output_type": "stream",
     "text": [
      "Running sarsa...\n"
     ]
    },
    {
     "ename": "AttributeError",
     "evalue": "'Box' object has no attribute 'n'",
     "output_type": "error",
     "traceback": [
      "\u001b[1;31m---------------------------------------------------------------------------\u001b[0m",
      "\u001b[1;31mAttributeError\u001b[0m                            Traceback (most recent call last)",
      "Cell \u001b[1;32mIn[10], line 187\u001b[0m\n\u001b[0;32m    183\u001b[0m     \u001b[39mreturn\u001b[39;00m Q\n\u001b[0;32m    186\u001b[0m \u001b[39mprint\u001b[39m(\u001b[39m\"\u001b[39m\u001b[39mRunning sarsa...\u001b[39m\u001b[39m\"\u001b[39m)\n\u001b[1;32m--> 187\u001b[0m Q \u001b[39m=\u001b[39m sarsa(env)\n\u001b[0;32m    188\u001b[0m plot_V(Q, env)\n\u001b[0;32m    189\u001b[0m plot_Q(Q, env)\n",
      "Cell \u001b[1;32mIn[10], line 123\u001b[0m, in \u001b[0;36msarsa\u001b[1;34m(env, alpha, gamma, epsilon, num_ep)\u001b[0m\n\u001b[0;32m    121\u001b[0m \u001b[39mdef\u001b[39;00m \u001b[39msarsa\u001b[39m(env, alpha\u001b[39m=\u001b[39m\u001b[39m0.1\u001b[39m, gamma\u001b[39m=\u001b[39m\u001b[39m0.9\u001b[39m, epsilon\u001b[39m=\u001b[39m\u001b[39m0.1\u001b[39m, num_ep\u001b[39m=\u001b[39m\u001b[39mint\u001b[39m(\u001b[39m1e4\u001b[39m)):\n\u001b[0;32m    122\u001b[0m     \u001b[39m# Q = np.zeros((env.observation_space.n,  env.action_space.n))\u001b[39;00m\n\u001b[1;32m--> 123\u001b[0m     Q \u001b[39m=\u001b[39m np\u001b[39m.\u001b[39mrandom\u001b[39m.\u001b[39mrand(env\u001b[39m.\u001b[39;49mobservation_space\u001b[39m.\u001b[39;49mn, env\u001b[39m.\u001b[39maction_space\u001b[39m.\u001b[39mn)                     \u001b[39m# initialize Q with random values\u001b[39;00m\n\u001b[0;32m    124\u001b[0m     Q[env\u001b[39m.\u001b[39mobservation_space\u001b[39m.\u001b[39mn \u001b[39m-\u001b[39m \u001b[39m1\u001b[39m, :] \u001b[39m=\u001b[39m \u001b[39m0\u001b[39m                                               \u001b[39m# set Q(terminal state, .) to 0\u001b[39;00m\n\u001b[0;32m    125\u001b[0m     eps_lengths \u001b[39m=\u001b[39m np\u001b[39m.\u001b[39mzeros(\u001b[39mint\u001b[39m(num_ep \u001b[39m/\u001b[39m \u001b[39m100\u001b[39m))\n",
      "\u001b[1;31mAttributeError\u001b[0m: 'Box' object has no attribute 'n'"
     ]
    }
   ],
   "source": [
    "import gym\n",
    "import numpy as np\n",
    "from itertools import product\n",
    "import matplotlib.pyplot as plt\n",
    "import random\n",
    "\n",
    "\n",
    "def print_policy(Q, env):\n",
    "    \"\"\" This is a helper function to print a nice policy from the Q function\"\"\"\n",
    "    moves = [u\"←\", u\"↓\", u\"→\", u\"↑\"]\n",
    "    if not hasattr(env, \"desc\"):\n",
    "        env = env.env\n",
    "    dims = env.desc.shape\n",
    "    policy = np.chararray(dims, unicode=True)\n",
    "    policy[:] = \" \"\n",
    "    for s in range(len(Q)):\n",
    "        idx = np.unravel_index(s, dims)\n",
    "        policy[idx] = moves[np.argmax(Q[s])]\n",
    "        if env.desc[idx] in [\"H\", \"G\"]:\n",
    "            policy[idx] = u\"·\"\n",
    "    print(\n",
    "        \"\\n\".join([\"\".join([u\"{:2}\".format(item) for item in row]) for row in policy])\n",
    "    )\n",
    "\n",
    "\n",
    "def plot_V(Q, env):\n",
    "    \"\"\" This is a helper function to plot the state values from the Q function\"\"\"\n",
    "    fig = plt.figure()\n",
    "    if not hasattr(env, \"desc\"):\n",
    "        env = env.env\n",
    "    dims = env.desc.shape\n",
    "    V = np.zeros(dims)\n",
    "    for s in range(len(Q)):\n",
    "        idx = np.unravel_index(s, dims)\n",
    "        V[idx] = np.max(Q[s])\n",
    "        if env.desc[idx] in [\"H\", \"G\"]:\n",
    "            V[idx] = 0.0\n",
    "    plt.imshow(\n",
    "        V,\n",
    "        origin=\"upper\",\n",
    "        extent=[0, dims[0], 0, dims[1]],\n",
    "        vmin=0.0,\n",
    "        vmax=0.6,\n",
    "        cmap=plt.cm.RdYlGn,\n",
    "        interpolation=\"none\",\n",
    "    )\n",
    "    for x, y in product(range(dims[0]), range(dims[1])):\n",
    "        plt.text(\n",
    "            y + 0.5,\n",
    "            dims[0] - x - 0.5,\n",
    "            \"{:.3f}\".format(V[x, y]),\n",
    "            horizontalalignment=\"center\",\n",
    "            verticalalignment=\"center\",\n",
    "        )\n",
    "    plt.xticks([])\n",
    "    plt.yticks([])\n",
    "\n",
    "\n",
    "def plot_Q(Q, env):\n",
    "    \"\"\" This is a helper function to plot the Q function \"\"\"\n",
    "    from matplotlib import colors, patches\n",
    "\n",
    "    fig = plt.figure()\n",
    "    ax = fig.gca()\n",
    "\n",
    "    if not hasattr(env, \"desc\"):\n",
    "        env = env.env\n",
    "    dims = env.desc.shape\n",
    "\n",
    "    up = np.array([[0, 1], [0.5, 0.5], [1, 1]])\n",
    "    down = np.array([[0, 0], [0.5, 0.5], [1, 0]])\n",
    "    left = np.array([[0, 0], [0.5, 0.5], [0, 1]])\n",
    "    right = np.array([[1, 0], [0.5, 0.5], [1, 1]])\n",
    "    tri = [left, down, right, up]\n",
    "    pos = [[0.2, 0.5], [0.5, 0.2], [0.8, 0.5], [0.5, 0.8]]\n",
    "\n",
    "    cmap = plt.cm.RdYlGn\n",
    "    norm = colors.Normalize(vmin=0.0, vmax=0.6)\n",
    "\n",
    "    ax.imshow(\n",
    "        np.zeros(dims),\n",
    "        origin=\"upper\",\n",
    "        extent=[0, dims[0], 0, dims[1]],\n",
    "        vmin=0.0,\n",
    "        vmax=0.6,\n",
    "        cmap=cmap,\n",
    "    )\n",
    "    ax.grid(which=\"major\", color=\"black\", linestyle=\"-\", linewidth=2)\n",
    "\n",
    "    for s in range(len(Q)):\n",
    "        idx = np.unravel_index(s, dims)\n",
    "        x, y = idx\n",
    "        if env.desc[idx] in [\"H\", \"G\"]:\n",
    "            ax.add_patch(patches.Rectangle((y, 3 - x), 1, 1, color=cmap(0.0)))\n",
    "            plt.text(\n",
    "                y + 0.5,\n",
    "                dims[0] - x - 0.5,\n",
    "                \"{:.2f}\".format(0.0),\n",
    "                horizontalalignment=\"center\",\n",
    "                verticalalignment=\"center\",\n",
    "            )\n",
    "            continue\n",
    "        for a in range(len(tri)):\n",
    "            ax.add_patch(\n",
    "                patches.Polygon(tri[a] + np.array([y, 3 - x]), color=cmap(Q[s][a]))\n",
    "            )\n",
    "            plt.text(\n",
    "                y + pos[a][0],\n",
    "                dims[0] - 1 - x + pos[a][1],\n",
    "                \"{:.2f}\".format(Q[s][a]),\n",
    "                horizontalalignment=\"center\",\n",
    "                verticalalignment=\"center\",\n",
    "                fontsize=9,\n",
    "                fontweight=(\"bold\" if Q[s][a] == np.max(Q[s]) else \"normal\"),\n",
    "            )\n",
    "\n",
    "    plt.xticks([])\n",
    "    plt.yticks([])\n",
    "\n",
    "\n",
    "def sarsa(env, alpha=0.1, gamma=0.9, epsilon=0.1, num_ep=int(1e4)):\n",
    "    # Q = np.zeros((env.observation_space.n,  env.action_space.n))\n",
    "    Q = np.random.rand(env.observation_space.n, env.action_space.n)                     # initialize Q with random values\n",
    "    Q[env.observation_space.n - 1, :] = 0                                               # set Q(terminal state, .) to 0\n",
    "    eps_lengths = np.zeros(int(num_ep / 100))\n",
    "    eps_length = 0\n",
    "\n",
    "    # TODO: implement the sarsa algorithm\n",
    "    # This is some starting point performing random walks in the environment:\n",
    "    for i in range(num_ep):\n",
    "        s = env.reset()\n",
    "        done = False\n",
    "        if random.random() < epsilon:                                                   # choose action by epsilon greedy policy\n",
    "            a = random.choice(range(env.action_space.n))\n",
    "        else:\n",
    "            a = np.argmax(Q[s])\n",
    "        while not done:\n",
    "            eps_length += 1\n",
    "            s_, r, done, _ = env.step(a)\n",
    "            if random.random() < epsilon:\n",
    "                a_ = random.choice(range(env.action_space.n))                           # choose random action\n",
    "            else:\n",
    "                a_ = np.argmax(Q[s_])                                                   # choose greedy action\n",
    "            Q[s][a] = Q[s][a] + alpha * (r + gamma * Q[s_, a_] - Q[s, a])               # update action-value\n",
    "            s = s_\n",
    "            a = a_\n",
    "        if i % 100 == 0:\n",
    "            eps_lengths[int(i / 100)] = eps_length / 100                                # store average episode length over 100 episodes\n",
    "            eps_length = 0\n",
    "    plt.plot(range(num_ep)[0::100], eps_lengths)\n",
    "    plt.xlabel(\"Episode Number\")\n",
    "    plt.ylabel(\"Length of episode\")\n",
    "    return Q\n",
    "\n",
    "\n",
    "def qlearning(env, alpha=0.1, gamma=0.9, epsilon=0.1, num_ep=int(1e4)):\n",
    "    # Q = np.zeros((env.observation_space.n, env.action_space.n))\n",
    "    Q = np.random.rand(env.observation_space.n, env.action_space.n)                     # initialize Q with random values\n",
    "    Q[env.observation_space.n - 1, :] = 0\n",
    "    eps_lengths = np.zeros(int(num_ep / 100))\n",
    "    eps_length = 0\n",
    "\n",
    "    # TODO: implement the qlearning algorithm\n",
    "    for i in range(num_ep):\n",
    "        eps_length = 0\n",
    "        s = env.reset()\n",
    "        done = False\n",
    "        while not done:\n",
    "            eps_length += 1\n",
    "            if random.random() < epsilon:                                               # choose action using epsilon-greedy policy\n",
    "                a = random.choice(range(env.action_space.n))\n",
    "            else:\n",
    "                a = np.argmax(Q[s])\n",
    "            s_, r, done, _ = env.step(a)\n",
    "            Q[s][a] = Q[s][a] + alpha * (r + gamma * np.amax(Q[s_]) - Q[s][a])          # update Q value using Q-learning algorithm\n",
    "            s = s_\n",
    "        if i % 100 == 0:\n",
    "            eps_lengths[int(i / 100)] = eps_length / 100\n",
    "            eps_length = 0\n",
    "    plt.plot(range(num_ep)[0::100], eps_lengths)\n",
    "    plt.xlabel(\"Episode Number\")\n",
    "    plt.ylabel(\"Length of episode\")\n",
    "    return Q\n",
    "\n",
    "\n",
    "print(\"Running sarsa...\")\n",
    "Q = sarsa(env)\n",
    "plot_V(Q, env)\n",
    "plot_Q(Q, env)\n",
    "print_policy(Q, env)\n",
    "plt.show()\n",
    "\n",
    "print(\"Running qlearning\")\n",
    "Q = qlearning(env)\n",
    "plot_V(Q, env)\n",
    "plot_Q(Q, env)\n",
    "print_policy(Q, env)\n",
    "plt.show()"
   ]
  },
  {
   "attachments": {},
   "cell_type": "markdown",
   "metadata": {},
   "source": [
    "### BruteForce"
   ]
  },
  {
   "cell_type": "code",
   "execution_count": 11,
   "metadata": {},
   "outputs": [
    {
     "name": "stdout",
     "output_type": "stream",
     "text": [
      "States:  9\n",
      "Actions:  4\n",
      "current environment: \n"
     ]
    },
    {
     "ename": "ResetNeeded",
     "evalue": "Cannot call `env.render()` before calling `env.reset()`, if this is a intended action, set `disable_render_order_enforcing=True` on the OrderEnforcer wrapper.",
     "output_type": "error",
     "traceback": [
      "\u001b[1;31m---------------------------------------------------------------------------\u001b[0m",
      "\u001b[1;31mResetNeeded\u001b[0m                               Traceback (most recent call last)",
      "Cell \u001b[1;32mIn[11], line 158\u001b[0m\n\u001b[0;32m    142\u001b[0m     \u001b[39m# $ optimalpolicies = policy_right\u001b[39;00m\n\u001b[0;32m    143\u001b[0m     \u001b[39m# This code can be used to \"rollout\" a policy in the environment:\u001b[39;00m\n\u001b[0;32m    144\u001b[0m \n\u001b[1;32m   (...)\u001b[0m\n\u001b[0;32m    153\u001b[0m     \u001b[39m#         print(\"Finished episode\")\u001b[39;00m\n\u001b[0;32m    154\u001b[0m     \u001b[39m#         break\u001b[39;00m\n\u001b[0;32m    157\u001b[0m \u001b[39mif\u001b[39;00m \u001b[39m__name__\u001b[39m \u001b[39m==\u001b[39m \u001b[39m\"\u001b[39m\u001b[39m__main__\u001b[39m\u001b[39m\"\u001b[39m:\n\u001b[1;32m--> 158\u001b[0m     main()\n",
      "Cell \u001b[1;32mIn[11], line 128\u001b[0m, in \u001b[0;36mmain\u001b[1;34m()\u001b[0m\n\u001b[0;32m    125\u001b[0m \u001b[39mdef\u001b[39;00m \u001b[39mmain\u001b[39m():\n\u001b[0;32m    126\u001b[0m     \u001b[39m# print the environment\u001b[39;00m\n\u001b[0;32m    127\u001b[0m     \u001b[39mprint\u001b[39m(\u001b[39m\"\u001b[39m\u001b[39mcurrent environment: \u001b[39m\u001b[39m\"\u001b[39m)\n\u001b[1;32m--> 128\u001b[0m     env\u001b[39m.\u001b[39;49mrender()\n\u001b[0;32m    129\u001b[0m     \u001b[39mprint\u001b[39m(\u001b[39m\"\u001b[39m\u001b[39m\"\u001b[39m)\n\u001b[0;32m    131\u001b[0m     \u001b[39m# Here a policy is just an array with the action for a state as element\u001b[39;00m\n",
      "File \u001b[1;32mf:\\Fajri\\Anaconda\\envs\\gpu2\\lib\\site-packages\\gym\\core.py:329\u001b[0m, in \u001b[0;36mWrapper.render\u001b[1;34m(self, *args, **kwargs)\u001b[0m\n\u001b[0;32m    325\u001b[0m \u001b[39mdef\u001b[39;00m \u001b[39mrender\u001b[39m(\n\u001b[0;32m    326\u001b[0m     \u001b[39mself\u001b[39m, \u001b[39m*\u001b[39margs, \u001b[39m*\u001b[39m\u001b[39m*\u001b[39mkwargs\n\u001b[0;32m    327\u001b[0m ) \u001b[39m-\u001b[39m\u001b[39m>\u001b[39m Optional[Union[RenderFrame, List[RenderFrame]]]:\n\u001b[0;32m    328\u001b[0m \u001b[39m    \u001b[39m\u001b[39m\"\"\"Renders the environment.\"\"\"\u001b[39;00m\n\u001b[1;32m--> 329\u001b[0m     \u001b[39mreturn\u001b[39;00m \u001b[39mself\u001b[39m\u001b[39m.\u001b[39menv\u001b[39m.\u001b[39mrender(\u001b[39m*\u001b[39margs, \u001b[39m*\u001b[39m\u001b[39m*\u001b[39mkwargs)\n",
      "File \u001b[1;32mf:\\Fajri\\Anaconda\\envs\\gpu2\\lib\\site-packages\\gym\\wrappers\\order_enforcing.py:47\u001b[0m, in \u001b[0;36mOrderEnforcing.render\u001b[1;34m(self, *args, **kwargs)\u001b[0m\n\u001b[0;32m     45\u001b[0m \u001b[39m\u001b[39m\u001b[39m\"\"\"Renders the environment with `kwargs`.\"\"\"\u001b[39;00m\n\u001b[0;32m     46\u001b[0m \u001b[39mif\u001b[39;00m \u001b[39mnot\u001b[39;00m \u001b[39mself\u001b[39m\u001b[39m.\u001b[39m_disable_render_order_enforcing \u001b[39mand\u001b[39;00m \u001b[39mnot\u001b[39;00m \u001b[39mself\u001b[39m\u001b[39m.\u001b[39m_has_reset:\n\u001b[1;32m---> 47\u001b[0m     \u001b[39mraise\u001b[39;00m ResetNeeded(\n\u001b[0;32m     48\u001b[0m         \u001b[39m\"\u001b[39m\u001b[39mCannot call `env.render()` before calling `env.reset()`, if this is a intended action, \u001b[39m\u001b[39m\"\u001b[39m\n\u001b[0;32m     49\u001b[0m         \u001b[39m\"\u001b[39m\u001b[39mset `disable_render_order_enforcing=True` on the OrderEnforcer wrapper.\u001b[39m\u001b[39m\"\u001b[39m\n\u001b[0;32m     50\u001b[0m     )\n\u001b[0;32m     51\u001b[0m \u001b[39mreturn\u001b[39;00m \u001b[39mself\u001b[39m\u001b[39m.\u001b[39menv\u001b[39m.\u001b[39mrender(\u001b[39m*\u001b[39margs, \u001b[39m*\u001b[39m\u001b[39m*\u001b[39mkwargs)\n",
      "\u001b[1;31mResetNeeded\u001b[0m: Cannot call `env.render()` before calling `env.reset()`, if this is a intended action, set `disable_render_order_enforcing=True` on the OrderEnforcer wrapper."
     ]
    }
   ],
   "source": [
    "import gym\n",
    "import numpy as np\n",
    "\n",
    "# Init environment\n",
    "# Lets use a smaller 3x3 custom map for faster computations\n",
    "custom_map3x3 = [\n",
    "    'SFF',\n",
    "    'FFF',\n",
    "    'FHG',\n",
    "]\n",
    "env = gym.make(\"FrozenLake-v1\", desc=custom_map3x3)\n",
    "# TODO: Uncomment the following line to try the default map (4x4):\n",
    "#env = gym.make(\"FrozenLake-v0\")\n",
    "\n",
    "# Uncomment the following lines for even larger maps:\n",
    "# random_map = generate_random_map(size=5, p=0.8)\n",
    "# env = gym.make(\"FrozenLake-v0\", desc=random_map)\n",
    "\n",
    "# Init some useful variables:\n",
    "n_states = env.observation_space.n\n",
    "n_actions = env.action_space.n\n",
    "\n",
    "print(\"States: \", n_states)\n",
    "print(\"Actions: \", n_actions)\n",
    "# the r vector is zero everywhere except for the goal state (last state)\n",
    "r = np.zeros(n_states)\n",
    "r[-1] = 1.\n",
    "\n",
    "gamma = 0.8\n",
    "\n",
    "\n",
    "# left = 0; right =2 ; up=1; down=4\n",
    "steps = [[]]\n",
    "\n",
    "''' Helper function to generate list of all possible moves (modulo 4 counter) '''\n",
    "\n",
    "\n",
    "def moduloCount(n, base):\n",
    "\n",
    "    digits = \"0123\"  # 4 possible moves\n",
    "\n",
    "    if n < base:\n",
    "        x = digits[n]\n",
    "    else:\n",
    "        x = moduloCount(n//base, base) + digits[n % base]\n",
    "\n",
    "    return x\n",
    "\n",
    "\n",
    "\"\"\" This is a helper function that returns the transition probability matrix P for a policy \"\"\"\n",
    "\n",
    "\n",
    "def trans_matrix_for_policy(policy):\n",
    "    transitions = np.zeros((n_states, n_states))\n",
    "    for s in range(n_states):\n",
    "        probs = env.P[s][policy[s]]\n",
    "        for el in probs:\n",
    "            transitions[s, el[1]] += el[0]\n",
    "    return transitions\n",
    "\n",
    "\n",
    "\"\"\" This is a helper function that returns terminal states \"\"\"\n",
    "\n",
    "\n",
    "def terminals():\n",
    "    terms = []\n",
    "    for s in range(n_states):\n",
    "        # terminal is when we end with probability 1 in terminal:\n",
    "        if env.P[s][0][0][0] == 1.0 and env.P[s][0][0][3] == True:\n",
    "            terms.append(s)\n",
    "    return terms\n",
    "\n",
    "\n",
    "def value_policy(policy):\n",
    "    P = trans_matrix_for_policy(policy)\n",
    "    # TODO: calculate and return v\n",
    "    # (P, r and gamma already given)\n",
    "    I = np.eye(n_states)\n",
    "    v = np.matmul(np.linalg.inv(I - gamma*P), r)\n",
    "    return v\n",
    "\n",
    "\n",
    "def bruteforce_policies():\n",
    "    #terms = terminals()\n",
    "    optimalpolicies = []\n",
    "    policy = np.zeros(n_states, dtype=np.int)\n",
    "    optimalvalue = np.zeros(n_states)\n",
    "    policyList = []\n",
    "    valueList = []  # Store values of all policies\n",
    "    # Total combinations of states = 4^10 (n_actions ^ n_states)\n",
    "    for i in range(n_actions ** n_states):\n",
    "        if(i % 1000 == 0):\n",
    "            print(\"State_idx: \", i)\n",
    "\n",
    "        x = moduloCount(i, n_actions)\n",
    "        L = len(x)\n",
    "        policy = list('0'*(n_states-L)+x)\n",
    "        policy = [int(i) for i in policy]\n",
    "        policyList.append(policy)\n",
    "        valueList.append(value_policy(policy))\n",
    "\n",
    "    optimalvalue = np.amax(valueList, axis=0)\n",
    "    equalityMatrix = (valueList == optimalvalue)\n",
    "    idx = 0\n",
    "    for row in equalityMatrix:\n",
    "        if(all(row)):  # Check if values of all states are maximum\n",
    "            optimalpolicies.append(policyList[idx])\n",
    "        idx += 1\n",
    "\n",
    "    #print(str(i)+\"---  \"+policy)\n",
    "    # in the discrete case a policy is just an array with action = policy[state]\n",
    "\n",
    "    # TODO: implement code that tries all possible policies, calculate the values using def value_policy.\n",
    "    # Find the optimal values and the optimal policies to answer the exercise questions.\n",
    "\n",
    "    print(\"Optimal value function:\")\n",
    "    print(optimalvalue)\n",
    "    print(\"number optimal policies:\")\n",
    "    print(len(optimalpolicies))\n",
    "    print(\"optimal policies:\")\n",
    "    print(np.array(optimalpolicies))\n",
    "    return optimalpolicies\n",
    "\n",
    "\n",
    "def main():\n",
    "    # print the environment\n",
    "    print(\"current environment: \")\n",
    "    env.render()\n",
    "    print(\"\")\n",
    "\n",
    "    # Here a policy is just an array with the action for a state as element\n",
    "    policy_left = np.zeros(n_states, dtype=np.int)  # 0 for all states\n",
    "    policy_right = np.ones(n_states, dtype=np.int) * 2  # 2 for all states\n",
    "\n",
    "    # Value functions:\n",
    "    # print(\"Value function for policy_left (always going left):\")\n",
    "    # print(value_policy(policy_left))\n",
    "    # print(\"Value function for policy_right (always going right):\")\n",
    "    # print(value_policy(policy_right))\n",
    "\n",
    "    optimalpolicies = bruteforce_policies()\n",
    "    # $ optimalpolicies = policy_right\n",
    "    # This code can be used to \"rollout\" a policy in the environment:\n",
    "\n",
    "    # print(\"rollout policy:\")\n",
    "    # maxiter = 100\n",
    "    # state = env.reset()\n",
    "    # for i in range(maxiter):\n",
    "    #     new_state, reward, done, info = env.step(optimalpolicies[0][state])\n",
    "    #     env.render()\n",
    "    #     state = new_state\n",
    "    #     if done:\n",
    "    #         print(\"Finished episode\")\n",
    "    #         break\n",
    "\n",
    "\n",
    "if __name__ == \"__main__\":\n",
    "    main()"
   ]
  },
  {
   "attachments": {},
   "cell_type": "markdown",
   "metadata": {},
   "source": [
    "### N_Step Sarsa"
   ]
  },
  {
   "cell_type": "code",
   "execution_count": 12,
   "metadata": {},
   "outputs": [],
   "source": [
    "import gym\n",
    "import numpy as np\n",
    "import matplotlib.pyplot as plt\n",
    "from tqdm.notebook import tqdm"
   ]
  },
  {
   "cell_type": "code",
   "execution_count": 15,
   "metadata": {},
   "outputs": [],
   "source": [
    "def nstep_sarsa(env, n=1, alpha=0.1, gamma=0.9, epsilon=0.1, num_ep=int(1e4)):\n",
    "\n",
    "    \"\"\" TODO: implement the n-step sarsa algorithm \"\"\"\n",
    "    \n",
    "    total_episode_length = 0\n",
    "    for ep in tqdm(range(num_ep)):      \n",
    "      state = env.reset()\n",
    "      obs = env.reset()\n",
    "      n_states = env.observation_space.n\n",
    "      n_actions = env.action_space.n\n",
    "      Q = np.random.rand(n_states,n_actions)   # Initializing random Q values for each (s,a)\n",
    "      Q[-1,:] = 0                              # Setting final state values to 0\n",
    "      policy = np.argmax(Q,axis=1)             # Greedy policy based on the random Q(s,a)     \n",
    "\n",
    "      done = False\n",
    "      t = 0\n",
    "      tau = 0\n",
    "      G=0\n",
    "      T = np.inf\n",
    "\n",
    "      states = [0]\n",
    "      actions = [policy[0]]\n",
    "      rewards = [0]\n",
    "      \n",
    "      while not done:\n",
    "        if t < T:\n",
    "          A = actions[t]   # take action A_t\n",
    "          S , R , done , _, _ =  env.step(A)\n",
    "          states.append(S)\n",
    "          actions.append(A)\n",
    "          rewards.append(R)\n",
    "\n",
    "          if done:\n",
    "            T = t+1\n",
    "          else:\n",
    "            actions.append(policy[S])  # action corresponding to current state S\n",
    "\n",
    "        tau = t - n + 1\n",
    "        if tau >= 0:\n",
    "          for i in range(tau+1,min((tau+n,T))):\n",
    "            R_i = rewards[i]\n",
    "            G += ((gamma ** (i-tau-1)) * R_i)\n",
    "          \n",
    "          if (tau+n) < T:\n",
    "            G = G + (gamma**n) * Q[states[tau+n], actions[tau+n]]\n",
    "\n",
    "          Q[states[tau],actions[tau]] += alpha * (G - Q[states[tau], actions[tau]])\n",
    "          e = np.random.rand()\n",
    "          if e > epsilon:\n",
    "            policy = np.argmax(Q,axis=1) # Update Policy (eps-Greedy)\n",
    "          else:\n",
    "            policy = np.random.randint(n_actions, size=n_states)\n",
    "\n",
    "        t += 1\n",
    "\n",
    "      \n",
    "      total_episode_length += t\n",
    "        \n",
    "    avg_ep_length = (total_episode_length/num_ep) \n",
    "    print(\"N =\",n,\" ||  α = {:.2f}\".format(alpha),\" || Avg. Episode_length =\",avg_ep_length)\n",
    "    return avg_ep_length"
   ]
  },
  {
   "cell_type": "code",
   "execution_count": 16,
   "metadata": {},
   "outputs": [
    {
     "data": {
      "application/vnd.jupyter.widget-view+json": {
       "model_id": "ad853f743a1a46f4b3385c069d022192",
       "version_major": 2,
       "version_minor": 0
      },
      "text/plain": [
       "  0%|          | 0/10000 [00:00<?, ?it/s]"
      ]
     },
     "metadata": {},
     "output_type": "display_data"
    },
    {
     "name": "stdout",
     "output_type": "stream",
     "text": [
      "N = 0  ||  α = 0.10  || Avg. Episode_length = 68.5041\n"
     ]
    },
    {
     "data": {
      "application/vnd.jupyter.widget-view+json": {
       "model_id": "4f5655a968944c4f9acc4c2fce3efd4e",
       "version_major": 2,
       "version_minor": 0
      },
      "text/plain": [
       "  0%|          | 0/10000 [00:00<?, ?it/s]"
      ]
     },
     "metadata": {},
     "output_type": "display_data"
    },
    {
     "name": "stdout",
     "output_type": "stream",
     "text": [
      "N = 0  ||  α = 0.20  || Avg. Episode_length = 68.2091\n"
     ]
    },
    {
     "data": {
      "application/vnd.jupyter.widget-view+json": {
       "model_id": "40485c8adc9c4d41a41ee4704807d905",
       "version_major": 2,
       "version_minor": 0
      },
      "text/plain": [
       "  0%|          | 0/10000 [00:00<?, ?it/s]"
      ]
     },
     "metadata": {},
     "output_type": "display_data"
    },
    {
     "name": "stdout",
     "output_type": "stream",
     "text": [
      "N = 0  ||  α = 0.30  || Avg. Episode_length = 67.58\n"
     ]
    },
    {
     "data": {
      "application/vnd.jupyter.widget-view+json": {
       "model_id": "9ed2e6f79d1247198d111f3817b267bd",
       "version_major": 2,
       "version_minor": 0
      },
      "text/plain": [
       "  0%|          | 0/10000 [00:00<?, ?it/s]"
      ]
     },
     "metadata": {},
     "output_type": "display_data"
    },
    {
     "name": "stdout",
     "output_type": "stream",
     "text": [
      "N = 0  ||  α = 0.40  || Avg. Episode_length = 63.4874\n"
     ]
    },
    {
     "data": {
      "application/vnd.jupyter.widget-view+json": {
       "model_id": "fa6ec86332c34580b2c826708d994467",
       "version_major": 2,
       "version_minor": 0
      },
      "text/plain": [
       "  0%|          | 0/10000 [00:00<?, ?it/s]"
      ]
     },
     "metadata": {},
     "output_type": "display_data"
    },
    {
     "name": "stdout",
     "output_type": "stream",
     "text": [
      "N = 0  ||  α = 0.50  || Avg. Episode_length = 62.8416\n"
     ]
    },
    {
     "data": {
      "application/vnd.jupyter.widget-view+json": {
       "model_id": "63cddbfc06644747bf2f3c40380ecf2a",
       "version_major": 2,
       "version_minor": 0
      },
      "text/plain": [
       "  0%|          | 0/10000 [00:00<?, ?it/s]"
      ]
     },
     "metadata": {},
     "output_type": "display_data"
    },
    {
     "name": "stdout",
     "output_type": "stream",
     "text": [
      "N = 0  ||  α = 0.60  || Avg. Episode_length = 62.4824\n"
     ]
    },
    {
     "data": {
      "application/vnd.jupyter.widget-view+json": {
       "model_id": "a8b2bc13559541d4896787972a0d5e10",
       "version_major": 2,
       "version_minor": 0
      },
      "text/plain": [
       "  0%|          | 0/10000 [00:00<?, ?it/s]"
      ]
     },
     "metadata": {},
     "output_type": "display_data"
    },
    {
     "name": "stdout",
     "output_type": "stream",
     "text": [
      "N = 0  ||  α = 0.70  || Avg. Episode_length = 61.677\n"
     ]
    },
    {
     "data": {
      "application/vnd.jupyter.widget-view+json": {
       "model_id": "22d46844ddfb4d8490050d3226b11de7",
       "version_major": 2,
       "version_minor": 0
      },
      "text/plain": [
       "  0%|          | 0/10000 [00:00<?, ?it/s]"
      ]
     },
     "metadata": {},
     "output_type": "display_data"
    },
    {
     "name": "stdout",
     "output_type": "stream",
     "text": [
      "N = 0  ||  α = 0.80  || Avg. Episode_length = 61.141\n"
     ]
    },
    {
     "data": {
      "application/vnd.jupyter.widget-view+json": {
       "model_id": "b0259c5c48994674b6ebbaa567437f70",
       "version_major": 2,
       "version_minor": 0
      },
      "text/plain": [
       "  0%|          | 0/10000 [00:00<?, ?it/s]"
      ]
     },
     "metadata": {},
     "output_type": "display_data"
    },
    {
     "name": "stdout",
     "output_type": "stream",
     "text": [
      "N = 0  ||  α = 0.90  || Avg. Episode_length = 57.8808\n"
     ]
    },
    {
     "data": {
      "application/vnd.jupyter.widget-view+json": {
       "model_id": "88b54ceb29ba47b9bdbe1428d6c31a3f",
       "version_major": 2,
       "version_minor": 0
      },
      "text/plain": [
       "  0%|          | 0/10000 [00:00<?, ?it/s]"
      ]
     },
     "metadata": {},
     "output_type": "display_data"
    },
    {
     "name": "stdout",
     "output_type": "stream",
     "text": [
      "N = 0  ||  α = 1.00  || Avg. Episode_length = 53.644\n"
     ]
    },
    {
     "data": {
      "application/vnd.jupyter.widget-view+json": {
       "model_id": "e6d62c0e5b4a42fc87a47cb8fcadfa31",
       "version_major": 2,
       "version_minor": 0
      },
      "text/plain": [
       "  0%|          | 0/10000 [00:00<?, ?it/s]"
      ]
     },
     "metadata": {},
     "output_type": "display_data"
    },
    {
     "name": "stdout",
     "output_type": "stream",
     "text": [
      "N = 1  ||  α = 0.10  || Avg. Episode_length = 61.3015\n"
     ]
    },
    {
     "data": {
      "application/vnd.jupyter.widget-view+json": {
       "model_id": "25885bb4b7814e3a979952b4e8f59039",
       "version_major": 2,
       "version_minor": 0
      },
      "text/plain": [
       "  0%|          | 0/10000 [00:00<?, ?it/s]"
      ]
     },
     "metadata": {},
     "output_type": "display_data"
    },
    {
     "name": "stdout",
     "output_type": "stream",
     "text": [
      "N = 1  ||  α = 0.20  || Avg. Episode_length = 61.0494\n"
     ]
    },
    {
     "data": {
      "application/vnd.jupyter.widget-view+json": {
       "model_id": "df4222ac214e4b7dbf2daaff3ec11ea6",
       "version_major": 2,
       "version_minor": 0
      },
      "text/plain": [
       "  0%|          | 0/10000 [00:00<?, ?it/s]"
      ]
     },
     "metadata": {},
     "output_type": "display_data"
    },
    {
     "name": "stdout",
     "output_type": "stream",
     "text": [
      "N = 1  ||  α = 0.30  || Avg. Episode_length = 58.1728\n"
     ]
    },
    {
     "data": {
      "application/vnd.jupyter.widget-view+json": {
       "model_id": "2ec14872c685403b89dc886863fc1b64",
       "version_major": 2,
       "version_minor": 0
      },
      "text/plain": [
       "  0%|          | 0/10000 [00:00<?, ?it/s]"
      ]
     },
     "metadata": {},
     "output_type": "display_data"
    },
    {
     "name": "stdout",
     "output_type": "stream",
     "text": [
      "N = 1  ||  α = 0.40  || Avg. Episode_length = 56.5885\n"
     ]
    },
    {
     "data": {
      "application/vnd.jupyter.widget-view+json": {
       "model_id": "cb47f99d4428428da5f15076de5a48b5",
       "version_major": 2,
       "version_minor": 0
      },
      "text/plain": [
       "  0%|          | 0/10000 [00:00<?, ?it/s]"
      ]
     },
     "metadata": {},
     "output_type": "display_data"
    },
    {
     "name": "stdout",
     "output_type": "stream",
     "text": [
      "N = 1  ||  α = 0.50  || Avg. Episode_length = 54.0683\n"
     ]
    },
    {
     "data": {
      "application/vnd.jupyter.widget-view+json": {
       "model_id": "996b29b11ffd4ac9a1142580a925f4e9",
       "version_major": 2,
       "version_minor": 0
      },
      "text/plain": [
       "  0%|          | 0/10000 [00:00<?, ?it/s]"
      ]
     },
     "metadata": {},
     "output_type": "display_data"
    },
    {
     "name": "stdout",
     "output_type": "stream",
     "text": [
      "N = 1  ||  α = 0.60  || Avg. Episode_length = 52.4469\n"
     ]
    },
    {
     "data": {
      "application/vnd.jupyter.widget-view+json": {
       "model_id": "477dcbf064cc4c4cb6a57d16e0af77d6",
       "version_major": 2,
       "version_minor": 0
      },
      "text/plain": [
       "  0%|          | 0/10000 [00:00<?, ?it/s]"
      ]
     },
     "metadata": {},
     "output_type": "display_data"
    },
    {
     "name": "stdout",
     "output_type": "stream",
     "text": [
      "N = 1  ||  α = 0.70  || Avg. Episode_length = 51.5185\n"
     ]
    },
    {
     "data": {
      "application/vnd.jupyter.widget-view+json": {
       "model_id": "08a28942e5f34f38be1105156cfafd9b",
       "version_major": 2,
       "version_minor": 0
      },
      "text/plain": [
       "  0%|          | 0/10000 [00:00<?, ?it/s]"
      ]
     },
     "metadata": {},
     "output_type": "display_data"
    },
    {
     "name": "stdout",
     "output_type": "stream",
     "text": [
      "N = 1  ||  α = 0.80  || Avg. Episode_length = 50.7296\n"
     ]
    },
    {
     "data": {
      "application/vnd.jupyter.widget-view+json": {
       "model_id": "94dad687250942dcace6f0a703ee7a05",
       "version_major": 2,
       "version_minor": 0
      },
      "text/plain": [
       "  0%|          | 0/10000 [00:00<?, ?it/s]"
      ]
     },
     "metadata": {},
     "output_type": "display_data"
    },
    {
     "name": "stdout",
     "output_type": "stream",
     "text": [
      "N = 1  ||  α = 0.90  || Avg. Episode_length = 50.0213\n"
     ]
    },
    {
     "data": {
      "application/vnd.jupyter.widget-view+json": {
       "model_id": "7f7ffe1cc9d446f1ab0661d945ce6051",
       "version_major": 2,
       "version_minor": 0
      },
      "text/plain": [
       "  0%|          | 0/10000 [00:00<?, ?it/s]"
      ]
     },
     "metadata": {},
     "output_type": "display_data"
    },
    {
     "name": "stdout",
     "output_type": "stream",
     "text": [
      "N = 1  ||  α = 1.00  || Avg. Episode_length = 46.5357\n"
     ]
    },
    {
     "data": {
      "application/vnd.jupyter.widget-view+json": {
       "model_id": "8ff2670c8cbf450c859df8f3d9013bd6",
       "version_major": 2,
       "version_minor": 0
      },
      "text/plain": [
       "  0%|          | 0/10000 [00:00<?, ?it/s]"
      ]
     },
     "metadata": {},
     "output_type": "display_data"
    },
    {
     "name": "stdout",
     "output_type": "stream",
     "text": [
      "N = 2  ||  α = 0.10  || Avg. Episode_length = 57.7339\n"
     ]
    },
    {
     "data": {
      "application/vnd.jupyter.widget-view+json": {
       "model_id": "dd63ab564cbb4875a926e4e108ff89ba",
       "version_major": 2,
       "version_minor": 0
      },
      "text/plain": [
       "  0%|          | 0/10000 [00:00<?, ?it/s]"
      ]
     },
     "metadata": {},
     "output_type": "display_data"
    },
    {
     "name": "stdout",
     "output_type": "stream",
     "text": [
      "N = 2  ||  α = 0.20  || Avg. Episode_length = 56.0792\n"
     ]
    },
    {
     "data": {
      "application/vnd.jupyter.widget-view+json": {
       "model_id": "3afed0a5ff55429ab364b7a5bd226f3a",
       "version_major": 2,
       "version_minor": 0
      },
      "text/plain": [
       "  0%|          | 0/10000 [00:00<?, ?it/s]"
      ]
     },
     "metadata": {},
     "output_type": "display_data"
    },
    {
     "name": "stdout",
     "output_type": "stream",
     "text": [
      "N = 2  ||  α = 0.30  || Avg. Episode_length = 54.7122\n"
     ]
    },
    {
     "data": {
      "application/vnd.jupyter.widget-view+json": {
       "model_id": "31f89c5af7724610883b98c494f35012",
       "version_major": 2,
       "version_minor": 0
      },
      "text/plain": [
       "  0%|          | 0/10000 [00:00<?, ?it/s]"
      ]
     },
     "metadata": {},
     "output_type": "display_data"
    },
    {
     "name": "stdout",
     "output_type": "stream",
     "text": [
      "N = 2  ||  α = 0.40  || Avg. Episode_length = 51.8857\n"
     ]
    },
    {
     "data": {
      "application/vnd.jupyter.widget-view+json": {
       "model_id": "029aa358966b4f8fbc5c6ee48889145c",
       "version_major": 2,
       "version_minor": 0
      },
      "text/plain": [
       "  0%|          | 0/10000 [00:00<?, ?it/s]"
      ]
     },
     "metadata": {},
     "output_type": "display_data"
    },
    {
     "name": "stdout",
     "output_type": "stream",
     "text": [
      "N = 2  ||  α = 0.50  || Avg. Episode_length = 51.8121\n"
     ]
    },
    {
     "data": {
      "application/vnd.jupyter.widget-view+json": {
       "model_id": "681310ae3f8e434db693995c51c1b214",
       "version_major": 2,
       "version_minor": 0
      },
      "text/plain": [
       "  0%|          | 0/10000 [00:00<?, ?it/s]"
      ]
     },
     "metadata": {},
     "output_type": "display_data"
    },
    {
     "name": "stdout",
     "output_type": "stream",
     "text": [
      "N = 2  ||  α = 0.60  || Avg. Episode_length = 50.4668\n"
     ]
    },
    {
     "data": {
      "application/vnd.jupyter.widget-view+json": {
       "model_id": "b9442f3857bd4615804efef7230a03f7",
       "version_major": 2,
       "version_minor": 0
      },
      "text/plain": [
       "  0%|          | 0/10000 [00:00<?, ?it/s]"
      ]
     },
     "metadata": {},
     "output_type": "display_data"
    },
    {
     "name": "stdout",
     "output_type": "stream",
     "text": [
      "N = 2  ||  α = 0.70  || Avg. Episode_length = 47.9009\n"
     ]
    },
    {
     "data": {
      "application/vnd.jupyter.widget-view+json": {
       "model_id": "aa17b065b2564c14b50b15b0b59eae63",
       "version_major": 2,
       "version_minor": 0
      },
      "text/plain": [
       "  0%|          | 0/10000 [00:00<?, ?it/s]"
      ]
     },
     "metadata": {},
     "output_type": "display_data"
    },
    {
     "name": "stdout",
     "output_type": "stream",
     "text": [
      "N = 2  ||  α = 0.80  || Avg. Episode_length = 48.9706\n"
     ]
    },
    {
     "data": {
      "application/vnd.jupyter.widget-view+json": {
       "model_id": "a52330abbe92445faa83feab40e06640",
       "version_major": 2,
       "version_minor": 0
      },
      "text/plain": [
       "  0%|          | 0/10000 [00:00<?, ?it/s]"
      ]
     },
     "metadata": {},
     "output_type": "display_data"
    },
    {
     "name": "stdout",
     "output_type": "stream",
     "text": [
      "N = 2  ||  α = 0.90  || Avg. Episode_length = 47.9631\n"
     ]
    },
    {
     "data": {
      "application/vnd.jupyter.widget-view+json": {
       "model_id": "5e155f9c82c24c45bc2ae2b314ddb62a",
       "version_major": 2,
       "version_minor": 0
      },
      "text/plain": [
       "  0%|          | 0/10000 [00:00<?, ?it/s]"
      ]
     },
     "metadata": {},
     "output_type": "display_data"
    },
    {
     "name": "stdout",
     "output_type": "stream",
     "text": [
      "N = 2  ||  α = 1.00  || Avg. Episode_length = 46.0863\n"
     ]
    },
    {
     "data": {
      "application/vnd.jupyter.widget-view+json": {
       "model_id": "32dc7aaac4704d039c4065fa41571b9a",
       "version_major": 2,
       "version_minor": 0
      },
      "text/plain": [
       "  0%|          | 0/10000 [00:00<?, ?it/s]"
      ]
     },
     "metadata": {},
     "output_type": "display_data"
    },
    {
     "name": "stdout",
     "output_type": "stream",
     "text": [
      "N = 3  ||  α = 0.10  || Avg. Episode_length = 55.8478\n"
     ]
    },
    {
     "data": {
      "application/vnd.jupyter.widget-view+json": {
       "model_id": "1023b8b49ce248469f3e7fe0b6b8aefd",
       "version_major": 2,
       "version_minor": 0
      },
      "text/plain": [
       "  0%|          | 0/10000 [00:00<?, ?it/s]"
      ]
     },
     "metadata": {},
     "output_type": "display_data"
    },
    {
     "name": "stdout",
     "output_type": "stream",
     "text": [
      "N = 3  ||  α = 0.20  || Avg. Episode_length = 54.6788\n"
     ]
    },
    {
     "data": {
      "application/vnd.jupyter.widget-view+json": {
       "model_id": "5113d1b006154c1dab553acf8ec7d7e1",
       "version_major": 2,
       "version_minor": 0
      },
      "text/plain": [
       "  0%|          | 0/10000 [00:00<?, ?it/s]"
      ]
     },
     "metadata": {},
     "output_type": "display_data"
    },
    {
     "name": "stdout",
     "output_type": "stream",
     "text": [
      "N = 3  ||  α = 0.30  || Avg. Episode_length = 52.4865\n"
     ]
    },
    {
     "data": {
      "application/vnd.jupyter.widget-view+json": {
       "model_id": "1b509263b8b74717b26000070a44fc52",
       "version_major": 2,
       "version_minor": 0
      },
      "text/plain": [
       "  0%|          | 0/10000 [00:00<?, ?it/s]"
      ]
     },
     "metadata": {},
     "output_type": "display_data"
    },
    {
     "name": "stdout",
     "output_type": "stream",
     "text": [
      "N = 3  ||  α = 0.40  || Avg. Episode_length = 50.1273\n"
     ]
    },
    {
     "data": {
      "application/vnd.jupyter.widget-view+json": {
       "model_id": "fff7d5d228c44cb8bcdc954d8ac8aa22",
       "version_major": 2,
       "version_minor": 0
      },
      "text/plain": [
       "  0%|          | 0/10000 [00:00<?, ?it/s]"
      ]
     },
     "metadata": {},
     "output_type": "display_data"
    },
    {
     "name": "stdout",
     "output_type": "stream",
     "text": [
      "N = 3  ||  α = 0.50  || Avg. Episode_length = 49.7708\n"
     ]
    },
    {
     "data": {
      "application/vnd.jupyter.widget-view+json": {
       "model_id": "8d57aa146d914cb9987d4fe975559317",
       "version_major": 2,
       "version_minor": 0
      },
      "text/plain": [
       "  0%|          | 0/10000 [00:00<?, ?it/s]"
      ]
     },
     "metadata": {},
     "output_type": "display_data"
    },
    {
     "name": "stdout",
     "output_type": "stream",
     "text": [
      "N = 3  ||  α = 0.60  || Avg. Episode_length = 48.1036\n"
     ]
    },
    {
     "data": {
      "application/vnd.jupyter.widget-view+json": {
       "model_id": "17f1d2503557483d93df4abf57ba9fd6",
       "version_major": 2,
       "version_minor": 0
      },
      "text/plain": [
       "  0%|          | 0/10000 [00:00<?, ?it/s]"
      ]
     },
     "metadata": {},
     "output_type": "display_data"
    },
    {
     "name": "stdout",
     "output_type": "stream",
     "text": [
      "N = 3  ||  α = 0.70  || Avg. Episode_length = 48.1897\n"
     ]
    },
    {
     "data": {
      "application/vnd.jupyter.widget-view+json": {
       "model_id": "06b531ff844a4c3b90baf58751df4f50",
       "version_major": 2,
       "version_minor": 0
      },
      "text/plain": [
       "  0%|          | 0/10000 [00:00<?, ?it/s]"
      ]
     },
     "metadata": {},
     "output_type": "display_data"
    },
    {
     "name": "stdout",
     "output_type": "stream",
     "text": [
      "N = 3  ||  α = 0.80  || Avg. Episode_length = 47.7191\n"
     ]
    },
    {
     "data": {
      "application/vnd.jupyter.widget-view+json": {
       "model_id": "7fa6deae4fd14ba5ab08fa13f51e0f79",
       "version_major": 2,
       "version_minor": 0
      },
      "text/plain": [
       "  0%|          | 0/10000 [00:00<?, ?it/s]"
      ]
     },
     "metadata": {},
     "output_type": "display_data"
    },
    {
     "name": "stdout",
     "output_type": "stream",
     "text": [
      "N = 3  ||  α = 0.90  || Avg. Episode_length = 46.6877\n"
     ]
    },
    {
     "data": {
      "application/vnd.jupyter.widget-view+json": {
       "model_id": "b381257f9af94180bf7917f644f3bd56",
       "version_major": 2,
       "version_minor": 0
      },
      "text/plain": [
       "  0%|          | 0/10000 [00:00<?, ?it/s]"
      ]
     },
     "metadata": {},
     "output_type": "display_data"
    },
    {
     "name": "stdout",
     "output_type": "stream",
     "text": [
      "N = 3  ||  α = 1.00  || Avg. Episode_length = 44.9614\n"
     ]
    },
    {
     "data": {
      "application/vnd.jupyter.widget-view+json": {
       "model_id": "2ac303e1f7314d82ab69dbb59a1e51b8",
       "version_major": 2,
       "version_minor": 0
      },
      "text/plain": [
       "  0%|          | 0/10000 [00:00<?, ?it/s]"
      ]
     },
     "metadata": {},
     "output_type": "display_data"
    },
    {
     "name": "stdout",
     "output_type": "stream",
     "text": [
      "N = 4  ||  α = 0.10  || Avg. Episode_length = 52.871\n"
     ]
    },
    {
     "data": {
      "application/vnd.jupyter.widget-view+json": {
       "model_id": "29f84adf1a514e16b5721ee25bbb43d0",
       "version_major": 2,
       "version_minor": 0
      },
      "text/plain": [
       "  0%|          | 0/10000 [00:00<?, ?it/s]"
      ]
     },
     "metadata": {},
     "output_type": "display_data"
    },
    {
     "name": "stdout",
     "output_type": "stream",
     "text": [
      "N = 4  ||  α = 0.20  || Avg. Episode_length = 54.2389\n"
     ]
    },
    {
     "data": {
      "application/vnd.jupyter.widget-view+json": {
       "model_id": "d74884305427427a82e7617d45004b07",
       "version_major": 2,
       "version_minor": 0
      },
      "text/plain": [
       "  0%|          | 0/10000 [00:00<?, ?it/s]"
      ]
     },
     "metadata": {},
     "output_type": "display_data"
    },
    {
     "name": "stdout",
     "output_type": "stream",
     "text": [
      "N = 4  ||  α = 0.30  || Avg. Episode_length = 51.1993\n"
     ]
    },
    {
     "data": {
      "application/vnd.jupyter.widget-view+json": {
       "model_id": "40bef6c73acf43afa6324cbc6d51aa8c",
       "version_major": 2,
       "version_minor": 0
      },
      "text/plain": [
       "  0%|          | 0/10000 [00:00<?, ?it/s]"
      ]
     },
     "metadata": {},
     "output_type": "display_data"
    },
    {
     "name": "stdout",
     "output_type": "stream",
     "text": [
      "N = 4  ||  α = 0.40  || Avg. Episode_length = 51.9287\n"
     ]
    },
    {
     "data": {
      "application/vnd.jupyter.widget-view+json": {
       "model_id": "7c5f89a1e3e74230a64d64b21429c987",
       "version_major": 2,
       "version_minor": 0
      },
      "text/plain": [
       "  0%|          | 0/10000 [00:00<?, ?it/s]"
      ]
     },
     "metadata": {},
     "output_type": "display_data"
    },
    {
     "name": "stdout",
     "output_type": "stream",
     "text": [
      "N = 4  ||  α = 0.50  || Avg. Episode_length = 49.3511\n"
     ]
    },
    {
     "data": {
      "application/vnd.jupyter.widget-view+json": {
       "model_id": "5fb4dc032341471cbdf4be0eae3ebaed",
       "version_major": 2,
       "version_minor": 0
      },
      "text/plain": [
       "  0%|          | 0/10000 [00:00<?, ?it/s]"
      ]
     },
     "metadata": {},
     "output_type": "display_data"
    },
    {
     "name": "stdout",
     "output_type": "stream",
     "text": [
      "N = 4  ||  α = 0.60  || Avg. Episode_length = 48.6247\n"
     ]
    },
    {
     "data": {
      "application/vnd.jupyter.widget-view+json": {
       "model_id": "0573773407034f89a263f1a26b3cd2b0",
       "version_major": 2,
       "version_minor": 0
      },
      "text/plain": [
       "  0%|          | 0/10000 [00:00<?, ?it/s]"
      ]
     },
     "metadata": {},
     "output_type": "display_data"
    },
    {
     "name": "stdout",
     "output_type": "stream",
     "text": [
      "N = 4  ||  α = 0.70  || Avg. Episode_length = 48.1101\n"
     ]
    },
    {
     "data": {
      "application/vnd.jupyter.widget-view+json": {
       "model_id": "e032fb7cca1042bebb38922bc7afb09b",
       "version_major": 2,
       "version_minor": 0
      },
      "text/plain": [
       "  0%|          | 0/10000 [00:00<?, ?it/s]"
      ]
     },
     "metadata": {},
     "output_type": "display_data"
    },
    {
     "name": "stdout",
     "output_type": "stream",
     "text": [
      "N = 4  ||  α = 0.80  || Avg. Episode_length = 46.6878\n"
     ]
    },
    {
     "data": {
      "application/vnd.jupyter.widget-view+json": {
       "model_id": "30f2ac5c39c9405e885dd7edf51049e3",
       "version_major": 2,
       "version_minor": 0
      },
      "text/plain": [
       "  0%|          | 0/10000 [00:00<?, ?it/s]"
      ]
     },
     "metadata": {},
     "output_type": "display_data"
    },
    {
     "name": "stdout",
     "output_type": "stream",
     "text": [
      "N = 4  ||  α = 0.90  || Avg. Episode_length = 46.6353\n"
     ]
    },
    {
     "data": {
      "application/vnd.jupyter.widget-view+json": {
       "model_id": "49c841d32ddb4b5e9d3c9904ad4cb7b6",
       "version_major": 2,
       "version_minor": 0
      },
      "text/plain": [
       "  0%|          | 0/10000 [00:00<?, ?it/s]"
      ]
     },
     "metadata": {},
     "output_type": "display_data"
    },
    {
     "name": "stdout",
     "output_type": "stream",
     "text": [
      "N = 4  ||  α = 1.00  || Avg. Episode_length = 45.8993\n"
     ]
    },
    {
     "data": {
      "application/vnd.jupyter.widget-view+json": {
       "model_id": "44e2a5aaa15a499ba9d14b4ee4b92d0e",
       "version_major": 2,
       "version_minor": 0
      },
      "text/plain": [
       "  0%|          | 0/10000 [00:00<?, ?it/s]"
      ]
     },
     "metadata": {},
     "output_type": "display_data"
    },
    {
     "name": "stdout",
     "output_type": "stream",
     "text": [
      "N = 5  ||  α = 0.10  || Avg. Episode_length = 53.9802\n"
     ]
    },
    {
     "data": {
      "application/vnd.jupyter.widget-view+json": {
       "model_id": "d5a4f7ec20224353bb784c7705229edc",
       "version_major": 2,
       "version_minor": 0
      },
      "text/plain": [
       "  0%|          | 0/10000 [00:00<?, ?it/s]"
      ]
     },
     "metadata": {},
     "output_type": "display_data"
    },
    {
     "name": "stdout",
     "output_type": "stream",
     "text": [
      "N = 5  ||  α = 0.20  || Avg. Episode_length = 51.7533\n"
     ]
    },
    {
     "data": {
      "application/vnd.jupyter.widget-view+json": {
       "model_id": "a8f02b03bdb7406c924081a641a6a421",
       "version_major": 2,
       "version_minor": 0
      },
      "text/plain": [
       "  0%|          | 0/10000 [00:00<?, ?it/s]"
      ]
     },
     "metadata": {},
     "output_type": "display_data"
    },
    {
     "name": "stdout",
     "output_type": "stream",
     "text": [
      "N = 5  ||  α = 0.30  || Avg. Episode_length = 51.805\n"
     ]
    },
    {
     "data": {
      "application/vnd.jupyter.widget-view+json": {
       "model_id": "728d6135ccd34978acb5b6481f8f338c",
       "version_major": 2,
       "version_minor": 0
      },
      "text/plain": [
       "  0%|          | 0/10000 [00:00<?, ?it/s]"
      ]
     },
     "metadata": {},
     "output_type": "display_data"
    },
    {
     "name": "stdout",
     "output_type": "stream",
     "text": [
      "N = 5  ||  α = 0.40  || Avg. Episode_length = 50.2437\n"
     ]
    },
    {
     "data": {
      "application/vnd.jupyter.widget-view+json": {
       "model_id": "55805be2d1f144cdbbbfd8ff7ba3e92f",
       "version_major": 2,
       "version_minor": 0
      },
      "text/plain": [
       "  0%|          | 0/10000 [00:00<?, ?it/s]"
      ]
     },
     "metadata": {},
     "output_type": "display_data"
    },
    {
     "name": "stdout",
     "output_type": "stream",
     "text": [
      "N = 5  ||  α = 0.50  || Avg. Episode_length = 47.2226\n"
     ]
    },
    {
     "data": {
      "application/vnd.jupyter.widget-view+json": {
       "model_id": "a45c0938cab949c1b7f90a5616f04f71",
       "version_major": 2,
       "version_minor": 0
      },
      "text/plain": [
       "  0%|          | 0/10000 [00:00<?, ?it/s]"
      ]
     },
     "metadata": {},
     "output_type": "display_data"
    },
    {
     "name": "stdout",
     "output_type": "stream",
     "text": [
      "N = 5  ||  α = 0.60  || Avg. Episode_length = 48.1171\n"
     ]
    },
    {
     "data": {
      "application/vnd.jupyter.widget-view+json": {
       "model_id": "3290a095d89249b19f099f14f210ecc6",
       "version_major": 2,
       "version_minor": 0
      },
      "text/plain": [
       "  0%|          | 0/10000 [00:00<?, ?it/s]"
      ]
     },
     "metadata": {},
     "output_type": "display_data"
    },
    {
     "name": "stdout",
     "output_type": "stream",
     "text": [
      "N = 5  ||  α = 0.70  || Avg. Episode_length = 47.026\n"
     ]
    },
    {
     "data": {
      "application/vnd.jupyter.widget-view+json": {
       "model_id": "721607b16752455b9534cdbeee99f208",
       "version_major": 2,
       "version_minor": 0
      },
      "text/plain": [
       "  0%|          | 0/10000 [00:00<?, ?it/s]"
      ]
     },
     "metadata": {},
     "output_type": "display_data"
    },
    {
     "name": "stdout",
     "output_type": "stream",
     "text": [
      "N = 5  ||  α = 0.80  || Avg. Episode_length = 47.6004\n"
     ]
    },
    {
     "data": {
      "application/vnd.jupyter.widget-view+json": {
       "model_id": "e68061f332dd4f9fbdfc54281a4a4f2a",
       "version_major": 2,
       "version_minor": 0
      },
      "text/plain": [
       "  0%|          | 0/10000 [00:00<?, ?it/s]"
      ]
     },
     "metadata": {},
     "output_type": "display_data"
    },
    {
     "name": "stdout",
     "output_type": "stream",
     "text": [
      "N = 5  ||  α = 0.90  || Avg. Episode_length = 46.6142\n"
     ]
    },
    {
     "data": {
      "application/vnd.jupyter.widget-view+json": {
       "model_id": "b628eefad8b0454b9ed03e459b5d716b",
       "version_major": 2,
       "version_minor": 0
      },
      "text/plain": [
       "  0%|          | 0/10000 [00:00<?, ?it/s]"
      ]
     },
     "metadata": {},
     "output_type": "display_data"
    },
    {
     "name": "stdout",
     "output_type": "stream",
     "text": [
      "N = 5  ||  α = 1.00  || Avg. Episode_length = 44.9135\n"
     ]
    },
    {
     "data": {
      "application/vnd.jupyter.widget-view+json": {
       "model_id": "43af979277754590ae1c53f9e9ec6030",
       "version_major": 2,
       "version_minor": 0
      },
      "text/plain": [
       "  0%|          | 0/10000 [00:00<?, ?it/s]"
      ]
     },
     "metadata": {},
     "output_type": "display_data"
    },
    {
     "name": "stdout",
     "output_type": "stream",
     "text": [
      "N = 6  ||  α = 0.10  || Avg. Episode_length = 51.2194\n"
     ]
    },
    {
     "data": {
      "application/vnd.jupyter.widget-view+json": {
       "model_id": "30e6baadd571446188e54365331e2991",
       "version_major": 2,
       "version_minor": 0
      },
      "text/plain": [
       "  0%|          | 0/10000 [00:00<?, ?it/s]"
      ]
     },
     "metadata": {},
     "output_type": "display_data"
    },
    {
     "name": "stdout",
     "output_type": "stream",
     "text": [
      "N = 6  ||  α = 0.20  || Avg. Episode_length = 52.0665\n"
     ]
    },
    {
     "data": {
      "application/vnd.jupyter.widget-view+json": {
       "model_id": "5a60b9f1e91244f79b0eaea68f95076a",
       "version_major": 2,
       "version_minor": 0
      },
      "text/plain": [
       "  0%|          | 0/10000 [00:00<?, ?it/s]"
      ]
     },
     "metadata": {},
     "output_type": "display_data"
    },
    {
     "name": "stdout",
     "output_type": "stream",
     "text": [
      "N = 6  ||  α = 0.30  || Avg. Episode_length = 49.7992\n"
     ]
    },
    {
     "data": {
      "application/vnd.jupyter.widget-view+json": {
       "model_id": "03b8c0bc081a4110b5a6aa16c6e2a6e1",
       "version_major": 2,
       "version_minor": 0
      },
      "text/plain": [
       "  0%|          | 0/10000 [00:00<?, ?it/s]"
      ]
     },
     "metadata": {},
     "output_type": "display_data"
    },
    {
     "name": "stdout",
     "output_type": "stream",
     "text": [
      "N = 6  ||  α = 0.40  || Avg. Episode_length = 48.8737\n"
     ]
    },
    {
     "data": {
      "application/vnd.jupyter.widget-view+json": {
       "model_id": "809021f3dac64c7b9edc3d871d2e39a8",
       "version_major": 2,
       "version_minor": 0
      },
      "text/plain": [
       "  0%|          | 0/10000 [00:00<?, ?it/s]"
      ]
     },
     "metadata": {},
     "output_type": "display_data"
    },
    {
     "name": "stdout",
     "output_type": "stream",
     "text": [
      "N = 6  ||  α = 0.50  || Avg. Episode_length = 47.4063\n"
     ]
    },
    {
     "data": {
      "application/vnd.jupyter.widget-view+json": {
       "model_id": "eb776950df0d498e865e805997abe0a2",
       "version_major": 2,
       "version_minor": 0
      },
      "text/plain": [
       "  0%|          | 0/10000 [00:00<?, ?it/s]"
      ]
     },
     "metadata": {},
     "output_type": "display_data"
    },
    {
     "name": "stdout",
     "output_type": "stream",
     "text": [
      "N = 6  ||  α = 0.60  || Avg. Episode_length = 46.7067\n"
     ]
    },
    {
     "data": {
      "application/vnd.jupyter.widget-view+json": {
       "model_id": "e05850391d4b4d34a7f06b629be141f5",
       "version_major": 2,
       "version_minor": 0
      },
      "text/plain": [
       "  0%|          | 0/10000 [00:00<?, ?it/s]"
      ]
     },
     "metadata": {},
     "output_type": "display_data"
    },
    {
     "name": "stdout",
     "output_type": "stream",
     "text": [
      "N = 6  ||  α = 0.70  || Avg. Episode_length = 48.0888\n"
     ]
    },
    {
     "data": {
      "application/vnd.jupyter.widget-view+json": {
       "model_id": "1dfaa2ccbada45a5a2f41d4de2a35747",
       "version_major": 2,
       "version_minor": 0
      },
      "text/plain": [
       "  0%|          | 0/10000 [00:00<?, ?it/s]"
      ]
     },
     "metadata": {},
     "output_type": "display_data"
    },
    {
     "name": "stdout",
     "output_type": "stream",
     "text": [
      "N = 6  ||  α = 0.80  || Avg. Episode_length = 47.1185\n"
     ]
    },
    {
     "data": {
      "application/vnd.jupyter.widget-view+json": {
       "model_id": "7dc8a28b462f4e89b2eff2ef00c49626",
       "version_major": 2,
       "version_minor": 0
      },
      "text/plain": [
       "  0%|          | 0/10000 [00:00<?, ?it/s]"
      ]
     },
     "metadata": {},
     "output_type": "display_data"
    },
    {
     "name": "stdout",
     "output_type": "stream",
     "text": [
      "N = 6  ||  α = 0.90  || Avg. Episode_length = 46.961\n"
     ]
    },
    {
     "data": {
      "application/vnd.jupyter.widget-view+json": {
       "model_id": "910d7c3bbb2b42bfb560a647bb1dba4c",
       "version_major": 2,
       "version_minor": 0
      },
      "text/plain": [
       "  0%|          | 0/10000 [00:00<?, ?it/s]"
      ]
     },
     "metadata": {},
     "output_type": "display_data"
    },
    {
     "name": "stdout",
     "output_type": "stream",
     "text": [
      "N = 6  ||  α = 1.00  || Avg. Episode_length = 45.4253\n"
     ]
    },
    {
     "data": {
      "application/vnd.jupyter.widget-view+json": {
       "model_id": "d47684c6837b446aa93c9e834b655619",
       "version_major": 2,
       "version_minor": 0
      },
      "text/plain": [
       "  0%|          | 0/10000 [00:00<?, ?it/s]"
      ]
     },
     "metadata": {},
     "output_type": "display_data"
    },
    {
     "name": "stdout",
     "output_type": "stream",
     "text": [
      "N = 7  ||  α = 0.10  || Avg. Episode_length = 51.115\n"
     ]
    },
    {
     "data": {
      "application/vnd.jupyter.widget-view+json": {
       "model_id": "45b1a9f2866e4282953bced0830e7832",
       "version_major": 2,
       "version_minor": 0
      },
      "text/plain": [
       "  0%|          | 0/10000 [00:00<?, ?it/s]"
      ]
     },
     "metadata": {},
     "output_type": "display_data"
    },
    {
     "name": "stdout",
     "output_type": "stream",
     "text": [
      "N = 7  ||  α = 0.20  || Avg. Episode_length = 50.8176\n"
     ]
    },
    {
     "data": {
      "application/vnd.jupyter.widget-view+json": {
       "model_id": "533be5ca36364597a7be978e3756b90e",
       "version_major": 2,
       "version_minor": 0
      },
      "text/plain": [
       "  0%|          | 0/10000 [00:00<?, ?it/s]"
      ]
     },
     "metadata": {},
     "output_type": "display_data"
    },
    {
     "name": "stdout",
     "output_type": "stream",
     "text": [
      "N = 7  ||  α = 0.30  || Avg. Episode_length = 49.599\n"
     ]
    },
    {
     "data": {
      "application/vnd.jupyter.widget-view+json": {
       "model_id": "1b08934d7ed8468494b60c9b8c1da175",
       "version_major": 2,
       "version_minor": 0
      },
      "text/plain": [
       "  0%|          | 0/10000 [00:00<?, ?it/s]"
      ]
     },
     "metadata": {},
     "output_type": "display_data"
    },
    {
     "name": "stdout",
     "output_type": "stream",
     "text": [
      "N = 7  ||  α = 0.40  || Avg. Episode_length = 49.0296\n"
     ]
    },
    {
     "data": {
      "application/vnd.jupyter.widget-view+json": {
       "model_id": "b294265815d44c92abe4efa2429db7fc",
       "version_major": 2,
       "version_minor": 0
      },
      "text/plain": [
       "  0%|          | 0/10000 [00:00<?, ?it/s]"
      ]
     },
     "metadata": {},
     "output_type": "display_data"
    },
    {
     "name": "stdout",
     "output_type": "stream",
     "text": [
      "N = 7  ||  α = 0.50  || Avg. Episode_length = 47.3524\n"
     ]
    },
    {
     "data": {
      "application/vnd.jupyter.widget-view+json": {
       "model_id": "bc3f13a8048745f49354679dc69b4dc5",
       "version_major": 2,
       "version_minor": 0
      },
      "text/plain": [
       "  0%|          | 0/10000 [00:00<?, ?it/s]"
      ]
     },
     "metadata": {},
     "output_type": "display_data"
    },
    {
     "name": "stdout",
     "output_type": "stream",
     "text": [
      "N = 7  ||  α = 0.60  || Avg. Episode_length = 46.8368\n"
     ]
    },
    {
     "data": {
      "application/vnd.jupyter.widget-view+json": {
       "model_id": "6697ddcc28074eaeb594d50b296adb5c",
       "version_major": 2,
       "version_minor": 0
      },
      "text/plain": [
       "  0%|          | 0/10000 [00:00<?, ?it/s]"
      ]
     },
     "metadata": {},
     "output_type": "display_data"
    },
    {
     "name": "stdout",
     "output_type": "stream",
     "text": [
      "N = 7  ||  α = 0.70  || Avg. Episode_length = 46.5118\n"
     ]
    },
    {
     "data": {
      "application/vnd.jupyter.widget-view+json": {
       "model_id": "e123dd889dd44948bfcc50a772be09d5",
       "version_major": 2,
       "version_minor": 0
      },
      "text/plain": [
       "  0%|          | 0/10000 [00:00<?, ?it/s]"
      ]
     },
     "metadata": {},
     "output_type": "display_data"
    },
    {
     "name": "stdout",
     "output_type": "stream",
     "text": [
      "N = 7  ||  α = 0.80  || Avg. Episode_length = 45.9224\n"
     ]
    },
    {
     "data": {
      "application/vnd.jupyter.widget-view+json": {
       "model_id": "40d4ba95699845d294ed489fd8260e88",
       "version_major": 2,
       "version_minor": 0
      },
      "text/plain": [
       "  0%|          | 0/10000 [00:00<?, ?it/s]"
      ]
     },
     "metadata": {},
     "output_type": "display_data"
    },
    {
     "name": "stdout",
     "output_type": "stream",
     "text": [
      "N = 7  ||  α = 0.90  || Avg. Episode_length = 45.7742\n"
     ]
    },
    {
     "data": {
      "application/vnd.jupyter.widget-view+json": {
       "model_id": "0a2b5805e5624b03acef434415c3e673",
       "version_major": 2,
       "version_minor": 0
      },
      "text/plain": [
       "  0%|          | 0/10000 [00:00<?, ?it/s]"
      ]
     },
     "metadata": {},
     "output_type": "display_data"
    },
    {
     "name": "stdout",
     "output_type": "stream",
     "text": [
      "N = 7  ||  α = 1.00  || Avg. Episode_length = 44.3382\n"
     ]
    },
    {
     "data": {
      "application/vnd.jupyter.widget-view+json": {
       "model_id": "fa6c00d133e949c983913dad77dd64f3",
       "version_major": 2,
       "version_minor": 0
      },
      "text/plain": [
       "  0%|          | 0/10000 [00:00<?, ?it/s]"
      ]
     },
     "metadata": {},
     "output_type": "display_data"
    },
    {
     "name": "stdout",
     "output_type": "stream",
     "text": [
      "N = 8  ||  α = 0.10  || Avg. Episode_length = 51.1623\n"
     ]
    },
    {
     "data": {
      "application/vnd.jupyter.widget-view+json": {
       "model_id": "a63c7bc7032d4581a1984b9ce2534778",
       "version_major": 2,
       "version_minor": 0
      },
      "text/plain": [
       "  0%|          | 0/10000 [00:00<?, ?it/s]"
      ]
     },
     "metadata": {},
     "output_type": "display_data"
    },
    {
     "name": "stdout",
     "output_type": "stream",
     "text": [
      "N = 8  ||  α = 0.20  || Avg. Episode_length = 49.8635\n"
     ]
    },
    {
     "data": {
      "application/vnd.jupyter.widget-view+json": {
       "model_id": "1c6ae16f9f8f401493f94b1a5abcf23d",
       "version_major": 2,
       "version_minor": 0
      },
      "text/plain": [
       "  0%|          | 0/10000 [00:00<?, ?it/s]"
      ]
     },
     "metadata": {},
     "output_type": "display_data"
    },
    {
     "name": "stdout",
     "output_type": "stream",
     "text": [
      "N = 8  ||  α = 0.30  || Avg. Episode_length = 49.3586\n"
     ]
    },
    {
     "data": {
      "application/vnd.jupyter.widget-view+json": {
       "model_id": "7f532832af75456ea9d41d645bfc571e",
       "version_major": 2,
       "version_minor": 0
      },
      "text/plain": [
       "  0%|          | 0/10000 [00:00<?, ?it/s]"
      ]
     },
     "metadata": {},
     "output_type": "display_data"
    },
    {
     "name": "stdout",
     "output_type": "stream",
     "text": [
      "N = 8  ||  α = 0.40  || Avg. Episode_length = 47.9927\n"
     ]
    },
    {
     "data": {
      "application/vnd.jupyter.widget-view+json": {
       "model_id": "4af322d967884a4fa83051cd323b9143",
       "version_major": 2,
       "version_minor": 0
      },
      "text/plain": [
       "  0%|          | 0/10000 [00:00<?, ?it/s]"
      ]
     },
     "metadata": {},
     "output_type": "display_data"
    },
    {
     "name": "stdout",
     "output_type": "stream",
     "text": [
      "N = 8  ||  α = 0.50  || Avg. Episode_length = 47.7042\n"
     ]
    },
    {
     "data": {
      "application/vnd.jupyter.widget-view+json": {
       "model_id": "8d313c32e6564798a6dd1c5f55d8719e",
       "version_major": 2,
       "version_minor": 0
      },
      "text/plain": [
       "  0%|          | 0/10000 [00:00<?, ?it/s]"
      ]
     },
     "metadata": {},
     "output_type": "display_data"
    },
    {
     "name": "stdout",
     "output_type": "stream",
     "text": [
      "N = 8  ||  α = 0.60  || Avg. Episode_length = 46.3457\n"
     ]
    },
    {
     "data": {
      "application/vnd.jupyter.widget-view+json": {
       "model_id": "bbe44aa2907c452c8e88b4d15e8fab89",
       "version_major": 2,
       "version_minor": 0
      },
      "text/plain": [
       "  0%|          | 0/10000 [00:00<?, ?it/s]"
      ]
     },
     "metadata": {},
     "output_type": "display_data"
    },
    {
     "name": "stdout",
     "output_type": "stream",
     "text": [
      "N = 8  ||  α = 0.70  || Avg. Episode_length = 46.8158\n"
     ]
    },
    {
     "data": {
      "application/vnd.jupyter.widget-view+json": {
       "model_id": "e59eff22b8f64c1295798405a97b2bd8",
       "version_major": 2,
       "version_minor": 0
      },
      "text/plain": [
       "  0%|          | 0/10000 [00:00<?, ?it/s]"
      ]
     },
     "metadata": {},
     "output_type": "display_data"
    },
    {
     "name": "stdout",
     "output_type": "stream",
     "text": [
      "N = 8  ||  α = 0.80  || Avg. Episode_length = 46.2591\n"
     ]
    },
    {
     "data": {
      "application/vnd.jupyter.widget-view+json": {
       "model_id": "e2e90d56a140482aa7f2c0ccf417b52c",
       "version_major": 2,
       "version_minor": 0
      },
      "text/plain": [
       "  0%|          | 0/10000 [00:00<?, ?it/s]"
      ]
     },
     "metadata": {},
     "output_type": "display_data"
    },
    {
     "name": "stdout",
     "output_type": "stream",
     "text": [
      "N = 8  ||  α = 0.90  || Avg. Episode_length = 46.5299\n"
     ]
    },
    {
     "data": {
      "application/vnd.jupyter.widget-view+json": {
       "model_id": "9eb41c26214f448f8834ecd8f9a98dda",
       "version_major": 2,
       "version_minor": 0
      },
      "text/plain": [
       "  0%|          | 0/10000 [00:00<?, ?it/s]"
      ]
     },
     "metadata": {},
     "output_type": "display_data"
    },
    {
     "name": "stdout",
     "output_type": "stream",
     "text": [
      "N = 8  ||  α = 1.00  || Avg. Episode_length = 44.6483\n"
     ]
    },
    {
     "data": {
      "application/vnd.jupyter.widget-view+json": {
       "model_id": "74925a5748b54371b72fdf62f887e46e",
       "version_major": 2,
       "version_minor": 0
      },
      "text/plain": [
       "  0%|          | 0/10000 [00:00<?, ?it/s]"
      ]
     },
     "metadata": {},
     "output_type": "display_data"
    },
    {
     "name": "stdout",
     "output_type": "stream",
     "text": [
      "N = 9  ||  α = 0.10  || Avg. Episode_length = 50.0082\n"
     ]
    },
    {
     "data": {
      "application/vnd.jupyter.widget-view+json": {
       "model_id": "7d65b381084540fc81eb5aaa2a036324",
       "version_major": 2,
       "version_minor": 0
      },
      "text/plain": [
       "  0%|          | 0/10000 [00:00<?, ?it/s]"
      ]
     },
     "metadata": {},
     "output_type": "display_data"
    },
    {
     "name": "stdout",
     "output_type": "stream",
     "text": [
      "N = 9  ||  α = 0.20  || Avg. Episode_length = 48.6164\n"
     ]
    },
    {
     "data": {
      "application/vnd.jupyter.widget-view+json": {
       "model_id": "47addc51a46e4677a32cc99b6cc666e1",
       "version_major": 2,
       "version_minor": 0
      },
      "text/plain": [
       "  0%|          | 0/10000 [00:00<?, ?it/s]"
      ]
     },
     "metadata": {},
     "output_type": "display_data"
    },
    {
     "name": "stdout",
     "output_type": "stream",
     "text": [
      "N = 9  ||  α = 0.30  || Avg. Episode_length = 48.4901\n"
     ]
    },
    {
     "data": {
      "application/vnd.jupyter.widget-view+json": {
       "model_id": "7860e39f4d1c43019e095b923f3e28e6",
       "version_major": 2,
       "version_minor": 0
      },
      "text/plain": [
       "  0%|          | 0/10000 [00:00<?, ?it/s]"
      ]
     },
     "metadata": {},
     "output_type": "display_data"
    },
    {
     "name": "stdout",
     "output_type": "stream",
     "text": [
      "N = 9  ||  α = 0.40  || Avg. Episode_length = 48.7057\n"
     ]
    },
    {
     "data": {
      "application/vnd.jupyter.widget-view+json": {
       "model_id": "d525e1c2e291458e96fee68260b4623f",
       "version_major": 2,
       "version_minor": 0
      },
      "text/plain": [
       "  0%|          | 0/10000 [00:00<?, ?it/s]"
      ]
     },
     "metadata": {},
     "output_type": "display_data"
    },
    {
     "name": "stdout",
     "output_type": "stream",
     "text": [
      "N = 9  ||  α = 0.50  || Avg. Episode_length = 47.5251\n"
     ]
    },
    {
     "data": {
      "application/vnd.jupyter.widget-view+json": {
       "model_id": "47971f718a084145a3075e6c1c7877e0",
       "version_major": 2,
       "version_minor": 0
      },
      "text/plain": [
       "  0%|          | 0/10000 [00:00<?, ?it/s]"
      ]
     },
     "metadata": {},
     "output_type": "display_data"
    },
    {
     "name": "stdout",
     "output_type": "stream",
     "text": [
      "N = 9  ||  α = 0.60  || Avg. Episode_length = 46.5172\n"
     ]
    },
    {
     "data": {
      "application/vnd.jupyter.widget-view+json": {
       "model_id": "daab6b6dc2bd4eb3ae56c74e2aef6054",
       "version_major": 2,
       "version_minor": 0
      },
      "text/plain": [
       "  0%|          | 0/10000 [00:00<?, ?it/s]"
      ]
     },
     "metadata": {},
     "output_type": "display_data"
    },
    {
     "name": "stdout",
     "output_type": "stream",
     "text": [
      "N = 9  ||  α = 0.70  || Avg. Episode_length = 45.6265\n"
     ]
    },
    {
     "data": {
      "application/vnd.jupyter.widget-view+json": {
       "model_id": "a03718ca81a54882b8820c34518ee2da",
       "version_major": 2,
       "version_minor": 0
      },
      "text/plain": [
       "  0%|          | 0/10000 [00:00<?, ?it/s]"
      ]
     },
     "metadata": {},
     "output_type": "display_data"
    },
    {
     "name": "stdout",
     "output_type": "stream",
     "text": [
      "N = 9  ||  α = 0.80  || Avg. Episode_length = 46.6536\n"
     ]
    },
    {
     "data": {
      "application/vnd.jupyter.widget-view+json": {
       "model_id": "62e762897e0c43619ca85b38743b43c8",
       "version_major": 2,
       "version_minor": 0
      },
      "text/plain": [
       "  0%|          | 0/10000 [00:00<?, ?it/s]"
      ]
     },
     "metadata": {},
     "output_type": "display_data"
    },
    {
     "name": "stdout",
     "output_type": "stream",
     "text": [
      "N = 9  ||  α = 0.90  || Avg. Episode_length = 44.8519\n"
     ]
    },
    {
     "data": {
      "application/vnd.jupyter.widget-view+json": {
       "model_id": "726a40c1f0974324b18b6f65db045121",
       "version_major": 2,
       "version_minor": 0
      },
      "text/plain": [
       "  0%|          | 0/10000 [00:00<?, ?it/s]"
      ]
     },
     "metadata": {},
     "output_type": "display_data"
    },
    {
     "name": "stdout",
     "output_type": "stream",
     "text": [
      "N = 9  ||  α = 1.00  || Avg. Episode_length = 44.6324\n"
     ]
    }
   ],
   "source": [
    "env=gym.make('FrozenLake-v1', map_name=\"8x8\")\n",
    "# TODO: run multiple times, evaluate the performance for different n and alpha\n",
    "alphas = np.linspace(0.1,1,10)\n",
    "lst = []\n",
    "for n in range(10):\n",
    "  for alpha in alphas:\n",
    "    avg_ep_length = nstep_sarsa(env, n=n, alpha=alpha)\n",
    "    lst.append((n,alpha,avg_ep_length))\n",
    "     "
   ]
  },
  {
   "cell_type": "code",
   "execution_count": 17,
   "metadata": {},
   "outputs": [],
   "source": [
    "L = []\n",
    "lst1 = [(alpha,ep) for _,alpha,ep in lst]\n",
    "for i in range(10):\n",
    "  L.append(lst1[i*10:(i+1)*10])\n"
   ]
  },
  {
   "cell_type": "code",
   "execution_count": 18,
   "metadata": {},
   "outputs": [
    {
     "data": {
      "image/png": "[encoded data removed]",
      "text/plain": [
       "<Figure size 1000x800 with 1 Axes>"
      ]
     },
     "metadata": {},
     "output_type": "display_data"
    }
   ],
   "source": [
    "%matplotlib inline\n",
    "plt.figure(figsize=(10,8))\n",
    "n=1\n",
    "for l in L:\n",
    "  x = []\n",
    "  y = []\n",
    "  for alpha,ep in l:\n",
    "    x.append(alpha)\n",
    "    y.append(ep)\n",
    "\n",
    "  plt.plot(x,y,'.-',label=\"n={}\".format(n))\n",
    "  n +=1\n",
    "\n",
    "plt.title(\"Performance evaluation of n-step Sarsa\")\n",
    "plt.xlabel(\"alpha\")\n",
    "plt.ylabel(\"Average episode length\")\n",
    "plt.legend()\n",
    "plt.show()\n",
    "  "
   ]
  },
  {
   "cell_type": "code",
   "execution_count": 19,
   "metadata": {},
   "outputs": [],
   "source": [
    "\n",
    "n_states = env.observation_space.n\n",
    "n_actions = env.action_space.n\n",
    "Q = np.random.rand(n_states,n_actions)\n",
    "\n",
    "Q[-1,:]=0"
   ]
  },
  {
   "cell_type": "code",
   "execution_count": 20,
   "metadata": {},
   "outputs": [
    {
     "data": {
      "text/plain": [
       "array([[0.67580313, 0.58530688, 0.01123308, 0.56471598],\n",
       "       [0.91664852, 0.5890413 , 0.22167208, 0.97252109],\n",
       "       [0.44510267, 0.72757517, 0.37323457, 0.68545057],\n",
       "       [0.56291849, 0.08484822, 0.14728632, 0.67477131],\n",
       "       [0.71610249, 0.09472536, 0.99040719, 0.52718333],\n",
       "       [0.52379547, 0.71326038, 0.02810834, 0.06768521],\n",
       "       [0.41586306, 0.95346043, 0.29611464, 0.9744541 ],\n",
       "       [0.91197985, 0.15180907, 0.92995877, 0.23658844],\n",
       "       [0.84585847, 0.21292598, 0.92340131, 0.84218315],\n",
       "       [0.61688478, 0.72353476, 0.23560529, 0.28216882],\n",
       "       [0.04204037, 0.91837758, 0.96166665, 0.88260042],\n",
       "       [0.99838475, 0.40424996, 0.49490004, 0.72506357],\n",
       "       [0.95367158, 0.21717836, 0.6538285 , 0.48801468],\n",
       "       [0.25127999, 0.58687033, 0.50411289, 0.18986991],\n",
       "       [0.57009239, 0.8700244 , 0.58716608, 0.36309317],\n",
       "       [0.10653937, 0.79552906, 0.69433752, 0.14804783],\n",
       "       [0.44811763, 0.70996299, 0.87629038, 0.43662647],\n",
       "       [0.39542992, 0.37712682, 0.43420383, 0.43125016],\n",
       "       [0.06125778, 0.41094136, 0.61980703, 0.84192885],\n",
       "       [0.55256081, 0.99600564, 0.77517926, 0.49627012],\n",
       "       [0.47788697, 0.40109009, 0.1836421 , 0.13478346],\n",
       "       [0.41857384, 0.67712018, 0.15065393, 0.78487714],\n",
       "       [0.03909542, 0.99691646, 0.71939023, 0.90900178],\n",
       "       [0.05591094, 0.37228893, 0.52116131, 0.02105572],\n",
       "       [0.73947794, 0.85449158, 0.74415481, 0.41461278],\n",
       "       [0.0110815 , 0.27555234, 0.57669468, 0.99347282],\n",
       "       [0.33675204, 0.62732724, 0.10300324, 0.86377881],\n",
       "       [0.1728536 , 0.34998315, 0.89218986, 0.98226093],\n",
       "       [0.4021325 , 0.57899665, 0.014887  , 0.30518842],\n",
       "       [0.94088422, 0.63118442, 0.33494388, 0.74241859],\n",
       "       [0.47772423, 0.76386829, 0.08975605, 0.05371892],\n",
       "       [0.80899602, 0.54108429, 0.65151309, 0.51385782],\n",
       "       [0.12860313, 0.12683227, 0.7723062 , 0.35585295],\n",
       "       [0.44120631, 0.59599295, 0.07935583, 0.39494782],\n",
       "       [0.4647057 , 0.46991748, 0.17692457, 0.06530794],\n",
       "       [0.66128666, 0.97562933, 0.64061909, 0.51095904],\n",
       "       [0.61228361, 0.77198033, 0.56887329, 0.71405734],\n",
       "       [0.07869931, 0.89555639, 0.25579153, 0.59379337],\n",
       "       [0.8623536 , 0.01101178, 0.71604533, 0.51786744],\n",
       "       [0.43961834, 0.62246589, 0.90076047, 0.88860571],\n",
       "       [0.16786443, 0.60702144, 0.26982356, 0.75832749],\n",
       "       [0.33921237, 0.70651101, 0.79399286, 0.41314941],\n",
       "       [0.84525448, 0.91793336, 0.38793822, 0.64040833],\n",
       "       [0.23718061, 0.95165186, 0.0560491 , 0.32010043],\n",
       "       [0.31587172, 0.48259803, 0.42434565, 0.94804259],\n",
       "       [0.85968158, 0.76136934, 0.93322445, 0.74710932],\n",
       "       [0.79192842, 0.41004448, 0.78861633, 0.75303335],\n",
       "       [0.51077742, 0.87064267, 0.04288327, 0.80488671],\n",
       "       [0.04926614, 0.99026581, 0.76174063, 0.11926657],\n",
       "       [0.86861938, 0.86701018, 0.25445544, 0.48418985],\n",
       "       [0.41751603, 0.65693356, 0.04028598, 0.58228291],\n",
       "       [0.69811625, 0.03301191, 0.04013211, 0.25861593],\n",
       "       [0.43024465, 0.87804455, 0.06520073, 0.12607353],\n",
       "       [0.83291998, 0.83751719, 0.62125654, 0.54125522],\n",
       "       [0.4918804 , 0.90963128, 0.1609219 , 0.31135982],\n",
       "       [0.64874354, 0.15211016, 0.33469686, 0.8572825 ],\n",
       "       [0.9141953 , 0.42865667, 0.29189241, 0.08706069],\n",
       "       [0.65824509, 0.14226312, 0.20899614, 0.40355797],\n",
       "       [0.62202551, 0.43972926, 0.51420709, 0.74319091],\n",
       "       [0.82555021, 0.10522102, 0.35186017, 0.87907151],\n",
       "       [0.60740468, 0.88722878, 0.12657532, 0.99719289],\n",
       "       [0.21808673, 0.61713086, 0.31443287, 0.4779496 ],\n",
       "       [0.25372096, 0.18207202, 0.72887184, 0.56745919],\n",
       "       [0.        , 0.        , 0.        , 0.        ]])"
      ]
     },
     "execution_count": 20,
     "metadata": {},
     "output_type": "execute_result"
    }
   ],
   "source": [
    "\n",
    "Q"
   ]
  },
  {
   "attachments": {},
   "cell_type": "markdown",
   "metadata": {},
   "source": [
    "### CartPole"
   ]
  },
  {
   "cell_type": "code",
   "execution_count": 21,
   "metadata": {},
   "outputs": [],
   "source": [
    "import gym, numpy as np, matplotlib.pyplot as plt\n",
    "from neural_networks.policy_gradient_utilities import PolicyGradient"
   ]
  },
  {
   "cell_type": "code",
   "execution_count": 22,
   "metadata": {},
   "outputs": [],
   "source": [
    "n_units = 5\n",
    "gamma = .99\n",
    "batch_size = 50\n",
    "learning_rate = 1e-3\n",
    "n_episodes = 10000\n",
    "render = False\n",
    "goal = 190\n",
    "n_layers = 2\n",
    "n_classes = 2\n",
    "environment = gym.make('CartPole-v1')\n",
    "environment_dimension = 4"
   ]
  },
  {
   "cell_type": "code",
   "execution_count": 23,
   "metadata": {},
   "outputs": [],
   "source": [
    "def calculate_discounted_reward(reward, gamma=gamma):\n",
    "    output = [reward[i] * gamma**i for i in range(0, len(reward))]\n",
    "    \n",
    "    return output[::-1]"
   ]
  },
  {
   "cell_type": "code",
   "execution_count": 24,
   "metadata": {},
   "outputs": [],
   "source": [
    "def score_model(model, n_tests, render=render):\n",
    "   scores = []\n",
    "   for _ in range(n_tests):\n",
    "     environment.reset()\n",
    "     observation = environment.reset()\n",
    "     reward_sum = 0\n",
    "     while True:\n",
    "        if render:\n",
    "            environment.render()\n",
    "\n",
    "        state = np.reshape(observation, [1, environment_dimension])\n",
    "        predict = model.predict([state])[0]\n",
    "        action = np.argmax(predict)\n",
    "        observation, reward, done, _, _ = environment.step(action)\n",
    "        reward_sum += reward\n",
    "       \n",
    "        if done:\n",
    "           break\n",
    "        scores.append(reward_sum)\n",
    "        \n",
    "        environment.close()\n",
    "        return np.mean(scores)"
   ]
  },
  {
   "cell_type": "code",
   "execution_count": 25,
   "metadata": {},
   "outputs": [],
   "source": [
    "def cart_pole_game(environment, policy_model, model_predictions):\n",
    "    loss = []\n",
    "    n_episode, reward_sum, score, episode_done = 0, 0, 0, False\n",
    "    n_actions = environment.action_space.n\n",
    "    observation = environment.reset()\n",
    "    states = np.empty(0).reshape(0, environment_dimension)\n",
    "    actions = np.empty(0).reshape(0, 1)\n",
    "    rewards = np.empty(0).reshape(0, 1)\n",
    "    discounted_rewards = np.empty(0).reshape(0, 1)\n",
    "\n",
    "    while n_episode < n_episodes:\n",
    "        state = np.array(observation)[None, :]  # Convert to numpy array and add an extra dimension\n",
    "        prediction = model_predictions.predict(state)[0]\n",
    "        action = np.random.choice(range(environment.action_space.n), p=prediction)\n",
    "        states = np.vstack([states, state])\n",
    "        actions = np.vstack([actions, action])\n",
    "        observation, reward, episode_done, info = environment.step(action)\n",
    "        reward_sum += reward\n",
    "        rewards = np.vstack([rewards, reward])\n",
    "\n",
    "        if episode_done == True:\n",
    "            discounted_reward = calculate_discounted_reward(rewards)\n",
    "            discounted_rewards = np.vstack([discounted_rewards, discounted_reward])\n",
    "            rewards = np.empty(0).reshape(0, 1)\n",
    "\n",
    "        if (n_episode + 1) % batch_size == 0:\n",
    "            discounted_rewards -= discounted_rewards.mean()\n",
    "            discounted_rewards /= discounted_rewards.std()\n",
    "            discounted_rewards = discounted_rewards.squeeze()\n",
    "            actions = actions.squeeze().astype(int)\n",
    "            train_actions = np.zeros([len(actions), n_actions])\n",
    "            train_actions[np.arange(len(actions)), actions] = 1\n",
    "            error = policy_model.train_on_batch([states, discounted_rewards], train_actions)\n",
    "            loss.append(error)\n",
    "            states = np.empty(0).reshape(0, environment_dimension)\n",
    "            actions = np.empty(0).reshape(0, 1)\n",
    "            discounted_rewards = np.empty(0).reshape(0, 1)\n",
    "            score = score_model(model=model_predictions, n_tests=10)\n",
    "            print('\\nEpisode: %s \\nAverage Reward: %s \\nScore: %s \\nError: %s' %(n_episode+1, reward_sum/float(batch_size), score, np.mean(loss[-batch_size:])))\n",
    "\n",
    "        if score >= goal:\n",
    "            break\n",
    "\n",
    "        reward_sum = 0\n",
    "        n_episode += 1\n",
    "        observation = environment.reset()\n",
    "\n",
    "    plt.title('Policy Gradient Error plot over %s Episodes'%(n_episode+1))\n",
    "    plt.xlabel('N batches')\n",
    "    plt.ylabel('Error Rate')\n",
    "    plt.plot(loss)\n",
    "    plt.show()\n"
   ]
  },
  {
   "cell_type": "code",
   "execution_count": 26,
   "metadata": {},
   "outputs": [
    {
     "name": "stdout",
     "output_type": "stream",
     "text": [
      "Model: \"model\"\n",
      "__________________________________________________________________________________________________\n",
      " Layer (type)                   Output Shape         Param #     Connected to                     \n",
      "==================================================================================================\n",
      " input_1 (InputLayer)           [(None, 4)]          0           []                               \n",
      "                                                                                                  \n",
      " dense (Dense)                  (None, 5)            20          ['input_1[0][0]']                \n",
      "                                                                                                  \n",
      " input_2 (InputLayer)           [(None, 1)]          0           []                               \n",
      "                                                                                                  \n",
      " dense_1 (Dense)                (None, 2)            10          ['dense[0][0]']                  \n",
      "                                                                                                  \n",
      "==================================================================================================\n",
      "Total params: 30\n",
      "Trainable params: 30\n",
      "Non-trainable params: 0\n",
      "__________________________________________________________________________________________________\n"
     ]
    },
    {
     "name": "stderr",
     "output_type": "stream",
     "text": [
      "C:\\Users\\Fajri\\AppData\\Local\\Temp\\ipykernel_40428\\908781028.py:12: VisibleDeprecationWarning: Creating an ndarray from ragged nested sequences (which is a list-or-tuple of lists-or-tuples-or ndarrays with different lengths or shapes) is deprecated. If you meant to do this, you must specify 'dtype=object' when creating the ndarray.\n",
      "  state = np.array(observation)[None, :]  # Convert to numpy array and add an extra dimension\n"
     ]
    },
    {
     "ename": "ValueError",
     "evalue": "Failed to convert a NumPy array to a Tensor (Unsupported object type numpy.ndarray).",
     "output_type": "error",
     "traceback": [
      "\u001b[1;31m---------------------------------------------------------------------------\u001b[0m",
      "\u001b[1;31mValueError\u001b[0m                                Traceback (most recent call last)",
      "Cell \u001b[1;32mIn[26], line 17\u001b[0m\n\u001b[0;32m     13\u001b[0m policy_model, model_predictions \u001b[39m=\u001b[39m mlp_model\u001b[39m.\u001b[39mcreate_policy_model(environment_dimension,)\n\u001b[0;32m     15\u001b[0m policy_model\u001b[39m.\u001b[39msummary()\n\u001b[1;32m---> 17\u001b[0m cart_pole_game(\n\u001b[0;32m     18\u001b[0m     environment\u001b[39m=\u001b[39;49menvironment,\n\u001b[0;32m     19\u001b[0m     policy_model\u001b[39m=\u001b[39;49mpolicy_model,\n\u001b[0;32m     20\u001b[0m     model_predictions\u001b[39m=\u001b[39;49mmodel_predictions\n\u001b[0;32m     21\u001b[0m )\n",
      "Cell \u001b[1;32mIn[25], line 13\u001b[0m, in \u001b[0;36mcart_pole_game\u001b[1;34m(environment, policy_model, model_predictions)\u001b[0m\n\u001b[0;32m     11\u001b[0m \u001b[39mwhile\u001b[39;00m n_episode \u001b[39m<\u001b[39m n_episodes:\n\u001b[0;32m     12\u001b[0m     state \u001b[39m=\u001b[39m np\u001b[39m.\u001b[39marray(observation)[\u001b[39mNone\u001b[39;00m, :]  \u001b[39m# Convert to numpy array and add an extra dimension\u001b[39;00m\n\u001b[1;32m---> 13\u001b[0m     prediction \u001b[39m=\u001b[39m model_predictions\u001b[39m.\u001b[39;49mpredict(state)[\u001b[39m0\u001b[39m]\n\u001b[0;32m     14\u001b[0m     action \u001b[39m=\u001b[39m np\u001b[39m.\u001b[39mrandom\u001b[39m.\u001b[39mchoice(\u001b[39mrange\u001b[39m(environment\u001b[39m.\u001b[39maction_space\u001b[39m.\u001b[39mn), p\u001b[39m=\u001b[39mprediction)\n\u001b[0;32m     15\u001b[0m     states \u001b[39m=\u001b[39m np\u001b[39m.\u001b[39mvstack([states, state])\n",
      "File \u001b[1;32mf:\\Fajri\\Anaconda\\envs\\gpu2\\lib\\site-packages\\keras\\utils\\traceback_utils.py:70\u001b[0m, in \u001b[0;36mfilter_traceback.<locals>.error_handler\u001b[1;34m(*args, **kwargs)\u001b[0m\n\u001b[0;32m     67\u001b[0m     filtered_tb \u001b[39m=\u001b[39m _process_traceback_frames(e\u001b[39m.\u001b[39m__traceback__)\n\u001b[0;32m     68\u001b[0m     \u001b[39m# To get the full stack trace, call:\u001b[39;00m\n\u001b[0;32m     69\u001b[0m     \u001b[39m# `tf.debugging.disable_traceback_filtering()`\u001b[39;00m\n\u001b[1;32m---> 70\u001b[0m     \u001b[39mraise\u001b[39;00m e\u001b[39m.\u001b[39mwith_traceback(filtered_tb) \u001b[39mfrom\u001b[39;00m \u001b[39mNone\u001b[39;00m\n\u001b[0;32m     71\u001b[0m \u001b[39mfinally\u001b[39;00m:\n\u001b[0;32m     72\u001b[0m     \u001b[39mdel\u001b[39;00m filtered_tb\n",
      "File \u001b[1;32m~\\AppData\\Roaming\\Python\\Python310\\site-packages\\tensorflow\\python\\framework\\constant_op.py:102\u001b[0m, in \u001b[0;36mconvert_to_eager_tensor\u001b[1;34m(value, ctx, dtype)\u001b[0m\n\u001b[0;32m    100\u001b[0m     dtype \u001b[39m=\u001b[39m dtypes\u001b[39m.\u001b[39mas_dtype(dtype)\u001b[39m.\u001b[39mas_datatype_enum\n\u001b[0;32m    101\u001b[0m ctx\u001b[39m.\u001b[39mensure_initialized()\n\u001b[1;32m--> 102\u001b[0m \u001b[39mreturn\u001b[39;00m ops\u001b[39m.\u001b[39;49mEagerTensor(value, ctx\u001b[39m.\u001b[39;49mdevice_name, dtype)\n",
      "\u001b[1;31mValueError\u001b[0m: Failed to convert a NumPy array to a Tensor (Unsupported object type numpy.ndarray)."
     ]
    }
   ],
   "source": [
    "if __name__ == '__main__':\n",
    "    mlp_model = PolicyGradient(\n",
    "        n_units=n_units,\n",
    "        n_layers=n_layers,\n",
    "        n_columns=environment_dimension,\n",
    "        n_outputs=n_classes,\n",
    "        learning_rate=learning_rate,\n",
    "        hidden_activation='selu',\n",
    "        output_activation='softmax',\n",
    "        loss_function='log_likelihood'\n",
    "    )\n",
    "    \n",
    "    policy_model, model_predictions = mlp_model.create_policy_model(environment_dimension,)\n",
    "    \n",
    "    policy_model.summary()\n",
    "    \n",
    "    cart_pole_game(\n",
    "        environment=environment,\n",
    "        policy_model=policy_model,\n",
    "        model_predictions=model_predictions\n",
    "    )"
   ]
  },
  {
   "attachments": {},
   "cell_type": "markdown",
   "metadata": {},
   "source": [
    "## **Munti Carlo**"
   ]
  },
  {
   "cell_type": "code",
   "execution_count": 27,
   "metadata": {},
   "outputs": [
    {
     "name": "stderr",
     "output_type": "stream",
     "text": [
      "  0%|          | 0/500000 [00:00<?, ?it/s]\n"
     ]
    },
    {
     "ename": "TypeError",
     "evalue": "'>=' not supported between instances of 'tuple' and 'int'",
     "output_type": "error",
     "traceback": [
      "\u001b[1;31m---------------------------------------------------------------------------\u001b[0m",
      "\u001b[1;31mTypeError\u001b[0m                                 Traceback (most recent call last)",
      "Cell \u001b[1;32mIn[27], line 105\u001b[0m\n\u001b[0;32m    101\u001b[0m     plot_blackjack(value, axes[\u001b[39m0\u001b[39m], axes[\u001b[39m1\u001b[39m])\n\u001b[0;32m    104\u001b[0m \u001b[39mif\u001b[39;00m \u001b[39m__name__\u001b[39m \u001b[39m==\u001b[39m \u001b[39m\"\u001b[39m\u001b[39m__main__\u001b[39m\u001b[39m\"\u001b[39m:\n\u001b[1;32m--> 105\u001b[0m     main()\n",
      "Cell \u001b[1;32mIn[27], line 95\u001b[0m, in \u001b[0;36mmain\u001b[1;34m()\u001b[0m\n\u001b[0;32m     93\u001b[0m env \u001b[39m=\u001b[39m gym\u001b[39m.\u001b[39mmake(\u001b[39m'\u001b[39m\u001b[39mBlackjack-v1\u001b[39m\u001b[39m'\u001b[39m)\n\u001b[0;32m     94\u001b[0m episodes \u001b[39m=\u001b[39m \u001b[39m500000\u001b[39m\n\u001b[1;32m---> 95\u001b[0m value \u001b[39m=\u001b[39m first_visit_MC(env, episodes)\n\u001b[0;32m     97\u001b[0m _, axes \u001b[39m=\u001b[39m plt\u001b[39m.\u001b[39msubplots(nrows\u001b[39m=\u001b[39m\u001b[39m2\u001b[39m, figsize\u001b[39m=\u001b[39m(\n\u001b[0;32m     98\u001b[0m     \u001b[39m6\u001b[39m, \u001b[39m9\u001b[39m), subplot_kw\u001b[39m=\u001b[39m{\u001b[39m'\u001b[39m\u001b[39mprojection\u001b[39m\u001b[39m'\u001b[39m: \u001b[39m'\u001b[39m\u001b[39m3d\u001b[39m\u001b[39m'\u001b[39m})\n\u001b[0;32m     99\u001b[0m axes[\u001b[39m0\u001b[39m]\u001b[39m.\u001b[39mset_title(\u001b[39m'\u001b[39m\u001b[39mNo Usable ace\u001b[39m\u001b[39m'\u001b[39m)\n",
      "Cell \u001b[1;32mIn[27], line 46\u001b[0m, in \u001b[0;36mfirst_visit_MC\u001b[1;34m(env, num_episodes)\u001b[0m\n\u001b[0;32m     42\u001b[0m n \u001b[39m=\u001b[39m defaultdict(\u001b[39mint\u001b[39m)\n\u001b[0;32m     44\u001b[0m \u001b[39mfor\u001b[39;00m i \u001b[39min\u001b[39;00m tqdm(\u001b[39mrange\u001b[39m(num_episodes)):\n\u001b[1;32m---> 46\u001b[0m     states, actions, rewards \u001b[39m=\u001b[39m run_episode(env)\n\u001b[0;32m     47\u001b[0m     returns \u001b[39m=\u001b[39m \u001b[39m0\u001b[39m\n\u001b[0;32m     49\u001b[0m     \u001b[39m# For each step calculate returns as a sum of rewards\u001b[39;00m\n",
      "Cell \u001b[1;32mIn[27], line 21\u001b[0m, in \u001b[0;36mrun_episode\u001b[1;34m(env)\u001b[0m\n\u001b[0;32m     18\u001b[0m done \u001b[39m=\u001b[39m \u001b[39mFalse\u001b[39;00m\n\u001b[0;32m     19\u001b[0m \u001b[39mwhile\u001b[39;00m \u001b[39mnot\u001b[39;00m done:\n\u001b[0;32m     20\u001b[0m     \u001b[39m#print(\"Observation:\", obs)\u001b[39;00m\n\u001b[1;32m---> 21\u001b[0m     \u001b[39mif\u001b[39;00m obs[\u001b[39m0\u001b[39;49m] \u001b[39m>\u001b[39;49m\u001b[39m=\u001b[39;49m \u001b[39m20\u001b[39;49m:\n\u001b[0;32m     22\u001b[0m         \u001b[39m# print(\"Stick\")\u001b[39;00m\n\u001b[0;32m     23\u001b[0m         action \u001b[39m=\u001b[39m \u001b[39m0\u001b[39m\n\u001b[0;32m     24\u001b[0m     \u001b[39melse\u001b[39;00m:\n\u001b[0;32m     25\u001b[0m         \u001b[39m# print(\"Hit\")\u001b[39;00m\n",
      "\u001b[1;31mTypeError\u001b[0m: '>=' not supported between instances of 'tuple' and 'int'"
     ]
    },
    {
     "ename": "",
     "evalue": "",
     "output_type": "error",
     "traceback": [
      "\u001b[1;31mThe Kernel crashed while executing code in the the current cell or a previous cell. Please review the code in the cell(s) to identify a possible cause of the failure. Click <a href='https://aka.ms/vscodeJupyterKernelCrash'>here</a> for more info. View Jupyter <a href='command:jupyter.viewOutput'>log</a> for further details."
     ]
    }
   ],
   "source": [
    "import gym\n",
    "import numpy as np\n",
    "from collections import defaultdict\n",
    "import matplotlib.pyplot as plt\n",
    "from mpl_toolkits.mplot3d import Axes3D\n",
    "from tqdm import tqdm\n",
    "plt.style.use('ggplot')\n",
    "\n",
    "\n",
    "def run_episode(env):\n",
    "\n",
    "    states = []\n",
    "    actions = []\n",
    "    rewards = []\n",
    "    state = env.reset()\n",
    "    obs = env.reset()\n",
    "    action = 0\n",
    "    done = False\n",
    "    while not done:\n",
    "        #print(\"Observation:\", obs)\n",
    "        if obs[0] >= 20:\n",
    "            # print(\"Stick\")\n",
    "            action = 0\n",
    "        else:\n",
    "            # print(\"Hit\")\n",
    "            action = 1\n",
    "\n",
    "        obs, reward, done, _ = env.step(action)\n",
    "        #print(\"Reward:\", reward)\n",
    "        # print(\"\")\n",
    "        states.append(state)\n",
    "        actions.append(action)\n",
    "        rewards.append(reward)\n",
    "        state = obs\n",
    "    return states, actions, rewards\n",
    "\n",
    "\n",
    "def first_visit_MC(env, num_episodes):\n",
    "\n",
    "    # Value table for storing the values of each state\n",
    "    value_table = defaultdict(float)\n",
    "    n = defaultdict(int)\n",
    "\n",
    "    for i in tqdm(range(num_episodes)):\n",
    "\n",
    "        states, actions, rewards = run_episode(env)\n",
    "        returns = 0\n",
    "\n",
    "        # For each step calculate returns as a sum of rewards\n",
    "        for t in range(len(states) - 1, -1, -1):\n",
    "            S = states[t]\n",
    "            R = rewards[t]\n",
    "\n",
    "            returns += R\n",
    "\n",
    "            # Check if the episode is visited for the first time =>\n",
    "            # If Yes: Assign the value of the state as an average of returns\n",
    "\n",
    "            if S not in states[:t]:\n",
    "                n[S] += 1\n",
    "                value_table[S] += (returns - value_table[S]) / n[S]\n",
    "\n",
    "    return value_table\n",
    "\n",
    "\n",
    "def plot_blackjack(V, ax1, ax2):\n",
    "    player_sum = np.arange(12, 21 + 1)\n",
    "    dealer_show = np.arange(1, 10 + 1)\n",
    "    usable_ace = np.array([False, True])\n",
    "    state_values = np.zeros(\n",
    "        (len(player_sum), len(dealer_show), len(usable_ace)))\n",
    "\n",
    "    for i, player in enumerate(player_sum):\n",
    "        for j, dealer in enumerate(dealer_show):\n",
    "            for k, ace in enumerate(usable_ace):\n",
    "                state_values[i, j, k] = V[player, dealer, ace]\n",
    "\n",
    "    X, Y = np.meshgrid(player_sum, dealer_show)\n",
    "\n",
    "    ax1.plot_wireframe(X, Y, state_values[:, :, 0])\n",
    "    ax2.plot_wireframe(X, Y, state_values[:, :, 1])\n",
    "\n",
    "    for ax in ax1, ax2:\n",
    "        ax.set_zlim(-1, 1)\n",
    "        ax.set_ylabel('Player sum')\n",
    "        ax.set_xlabel('Dealer showing')\n",
    "        ax.set_zlabel('State Value')\n",
    "    plt.show()\n",
    "\n",
    "\n",
    "def main():\n",
    "    # This example shows how to perform a single run with the policy that hits for player_sum >= 20\n",
    "    env = gym.make('Blackjack-v1')\n",
    "    episodes = 500000\n",
    "    value = first_visit_MC(env, episodes)\n",
    "\n",
    "    _, axes = plt.subplots(nrows=2, figsize=(\n",
    "        6, 9), subplot_kw={'projection': '3d'})\n",
    "    axes[0].set_title('No Usable ace')\n",
    "    axes[1].set_title('Usable ace')\n",
    "    plot_blackjack(value, axes[0], axes[1])\n",
    "\n",
    "\n",
    "if __name__ == \"__main__\":\n",
    "    main()"
   ]
  },
  {
   "cell_type": "code",
   "execution_count": 22,
   "metadata": {},
   "outputs": [
    {
     "ename": "IndexError",
     "evalue": "only integers, slices (`:`), ellipsis (`...`), numpy.newaxis (`None`) and integer or boolean arrays are valid indices",
     "output_type": "error",
     "traceback": [
      "\u001b[1;31m---------------------------------------------------------------------------\u001b[0m",
      "\u001b[1;31mIndexError\u001b[0m                                Traceback (most recent call last)",
      "Cell \u001b[1;32mIn[22], line 60\u001b[0m\n\u001b[0;32m     58\u001b[0m env \u001b[39m=\u001b[39m gym\u001b[39m.\u001b[39mmake(env_name)\n\u001b[0;32m     59\u001b[0m optimal_policy \u001b[39m=\u001b[39m policy_iteration(env, gamma \u001b[39m=\u001b[39m \u001b[39m1.0\u001b[39m)\n\u001b[1;32m---> 60\u001b[0m scores \u001b[39m=\u001b[39m evaluate_policy(env, optimal_policy, gamma \u001b[39m=\u001b[39;49m \u001b[39m1.0\u001b[39;49m)\n\u001b[0;32m     61\u001b[0m \u001b[39mprint\u001b[39m(\u001b[39m'\u001b[39m\u001b[39mAverage scores = \u001b[39m\u001b[39m'\u001b[39m, np\u001b[39m.\u001b[39mmean(scores))\n",
      "Cell \u001b[1;32mIn[22], line 19\u001b[0m, in \u001b[0;36mevaluate_policy\u001b[1;34m(env, policy, gamma, n)\u001b[0m\n\u001b[0;32m     18\u001b[0m \u001b[39mdef\u001b[39;00m \u001b[39mevaluate_policy\u001b[39m(env, policy, gamma \u001b[39m=\u001b[39m \u001b[39m1.0\u001b[39m, n \u001b[39m=\u001b[39m \u001b[39m100\u001b[39m):\n\u001b[1;32m---> 19\u001b[0m     scores \u001b[39m=\u001b[39m [run_episode(env, policy, gamma, \u001b[39mFalse\u001b[39;00m) \u001b[39mfor\u001b[39;00m _ \u001b[39min\u001b[39;00m \u001b[39mrange\u001b[39m(n)]\n\u001b[0;32m     20\u001b[0m     \u001b[39mreturn\u001b[39;00m np\u001b[39m.\u001b[39mmean(scores)\n",
      "Cell \u001b[1;32mIn[22], line 19\u001b[0m, in \u001b[0;36m<listcomp>\u001b[1;34m(.0)\u001b[0m\n\u001b[0;32m     18\u001b[0m \u001b[39mdef\u001b[39;00m \u001b[39mevaluate_policy\u001b[39m(env, policy, gamma \u001b[39m=\u001b[39m \u001b[39m1.0\u001b[39m, n \u001b[39m=\u001b[39m \u001b[39m100\u001b[39m):\n\u001b[1;32m---> 19\u001b[0m     scores \u001b[39m=\u001b[39m [run_episode(env, policy, gamma, \u001b[39mFalse\u001b[39;49;00m) \u001b[39mfor\u001b[39;00m _ \u001b[39min\u001b[39;00m \u001b[39mrange\u001b[39m(n)]\n\u001b[0;32m     20\u001b[0m     \u001b[39mreturn\u001b[39;00m np\u001b[39m.\u001b[39mmean(scores)\n",
      "Cell \u001b[1;32mIn[22], line 11\u001b[0m, in \u001b[0;36mrun_episode\u001b[1;34m(env, policy, gamma, render)\u001b[0m\n\u001b[0;32m      9\u001b[0m \u001b[39mif\u001b[39;00m render:\n\u001b[0;32m     10\u001b[0m     env\u001b[39m.\u001b[39mrender()\n\u001b[1;32m---> 11\u001b[0m obs, reward, done , policy \u001b[39m=\u001b[39m env\u001b[39m.\u001b[39mstep(\u001b[39mint\u001b[39m(policy[obs]))\n\u001b[0;32m     12\u001b[0m total_reward \u001b[39m+\u001b[39m\u001b[39m=\u001b[39m (gamma \u001b[39m*\u001b[39m\u001b[39m*\u001b[39m step_idx \u001b[39m*\u001b[39m reward)\n\u001b[0;32m     13\u001b[0m step_idx \u001b[39m+\u001b[39m\u001b[39m=\u001b[39m \u001b[39m1\u001b[39m\n",
      "\u001b[1;31mIndexError\u001b[0m: only integers, slices (`:`), ellipsis (`...`), numpy.newaxis (`None`) and integer or boolean arrays are valid indices"
     ]
    },
    {
     "ename": "",
     "evalue": "",
     "output_type": "error",
     "traceback": [
      "\u001b[1;31mThe Kernel crashed while executing code in the the current cell or a previous cell. Please review the code in the cell(s) to identify a possible cause of the failure. Click <a href='https://aka.ms/vscodeJupyterKernelCrash'>here</a> for more info. View Jupyter <a href='command:jupyter.viewOutput'>log</a> for further details."
     ]
    }
   ],
   "source": [
    "import gym\n",
    "import numpy as np\n",
    "\n",
    "def run_episode(env, policy, gamma = 1.0, render = False):\n",
    "    obs = env.reset()\n",
    "    total_reward = 0\n",
    "    step_idx = 0\n",
    "    while True:\n",
    "        if render:\n",
    "            env.render()\n",
    "        obs, reward, done , policy = env.step(int(policy[obs]))\n",
    "        total_reward += (gamma ** step_idx * reward)\n",
    "        step_idx += 1\n",
    "        if done:\n",
    "            break\n",
    "    return total_reward\n",
    "\n",
    "def evaluate_policy(env, policy, gamma = 1.0, n = 100):\n",
    "    scores = [run_episode(env, policy, gamma, False) for _ in range(n)]\n",
    "    return np.mean(scores)\n",
    "\n",
    "def extract_policy(v, gamma = 1.0):\n",
    "    policy = np.zeros(env.observation_space.n)\n",
    "    for s in range(env.observation_space.n):\n",
    "        q_sa = np.zeros(env.action_space.n)\n",
    "        for a in range(env.action_space.n):\n",
    "            for next_sr in env.P[s][a]:\n",
    "                p, s_, r, _ = next_sr\n",
    "                q_sa[a] += (p * (r + gamma * v[s_]))\n",
    "        policy[s] = np.argmax(q_sa)\n",
    "    return policy\n",
    "\n",
    "def compute_policy_v(env, policy, gamma=1.0):\n",
    "    v = np.zeros(env.observation_space.n)\n",
    "    eps = 1e-10\n",
    "    while True:\n",
    "        prev_v = np.copy(v)\n",
    "        for s in range(env.observation_space.n):\n",
    "            policy_a = policy[s]\n",
    "            v[s] = sum([p * (r + gamma * prev_v[s_]) for p, s_, r, _ in env.P[s][policy_a]])\n",
    "        if (np.sum((np.fabs(prev_v - v))) <= eps):\n",
    "            break\n",
    "    return v\n",
    "\n",
    "def policy_iteration(env, gamma = 1.0):\n",
    "    policy = np.random.choice(env.action_space.n, size=(env.observation_space.n))  # initialize a random policy\n",
    "    max_iterations = 200000\n",
    "    gamma = 1.0\n",
    "    for i in range(max_iterations):\n",
    "        old_policy_v = compute_policy_v(env, policy, gamma)\n",
    "        new_policy = extract_policy(old_policy_v, gamma)\n",
    "        if (np.all(policy == new_policy)):\n",
    "            break\n",
    "        policy = new_policy\n",
    "    return policy\n",
    "\n",
    "env_name  = 'FrozenLake8x8-v1'\n",
    "env = gym.make(env_name)\n",
    "optimal_policy = policy_iteration(env, gamma = 1.0)\n",
    "scores = evaluate_policy(env, optimal_policy, gamma = 1.0)\n",
    "print('Average scores = ', np.mean(scores))\n"
   ]
  },
  {
   "attachments": {},
   "cell_type": "markdown",
   "metadata": {},
   "source": [
    "### Multi Armed Banditsa"
   ]
  },
  {
   "cell_type": "code",
   "execution_count": null,
   "metadata": {},
   "outputs": [
    {
     "name": "stdout",
     "output_type": "stream",
     "text": [
      "current episode: 0\n",
      "current episode: 100\n",
      "current episode: 200\n",
      "current episode: 300\n",
      "current episode: 400\n",
      "current episode: 500\n",
      "current episode: 600\n",
      "current episode: 700\n",
      "current episode: 800\n",
      "current episode: 900\n",
      "current episode: 1000\n",
      "current episode: 1100\n",
      "current episode: 1200\n",
      "current episode: 1300\n",
      "current episode: 1400\n",
      "current episode: 1500\n",
      "current episode: 1600\n",
      "current episode: 1700\n",
      "current episode: 1800\n",
      "current episode: 1900\n",
      "current episode: 2000\n",
      "current episode: 2100\n",
      "current episode: 2200\n",
      "current episode: 2300\n",
      "current episode: 2400\n",
      "current episode: 2500\n",
      "current episode: 2600\n",
      "current episode: 2700\n",
      "current episode: 2800\n",
      "current episode: 2900\n",
      "current episode: 3000\n",
      "current episode: 3100\n",
      "current episode: 3200\n",
      "current episode: 3300\n",
      "current episode: 3400\n",
      "current episode: 3500\n",
      "current episode: 3600\n",
      "current episode: 3700\n",
      "current episode: 3800\n",
      "current episode: 3900\n",
      "current episode: 4000\n",
      "current episode: 4100\n",
      "current episode: 4200\n",
      "current episode: 4300\n",
      "current episode: 4400\n",
      "current episode: 4500\n",
      "current episode: 4600\n",
      "current episode: 4700\n",
      "current episode: 4800\n",
      "current episode: 4900\n",
      "current episode: 5000\n",
      "current episode: 5100\n",
      "current episode: 5200\n",
      "current episode: 5300\n",
      "current episode: 5400\n",
      "current episode: 5500\n",
      "current episode: 5600\n",
      "current episode: 5700\n",
      "current episode: 5800\n",
      "current episode: 5900\n",
      "current episode: 6000\n",
      "current episode: 6100\n",
      "current episode: 6200\n",
      "current episode: 6300\n",
      "current episode: 6400\n",
      "current episode: 6500\n",
      "current episode: 6600\n",
      "current episode: 6700\n",
      "current episode: 6800\n",
      "current episode: 6900\n",
      "current episode: 7000\n",
      "current episode: 7100\n",
      "current episode: 7200\n",
      "current episode: 7300\n",
      "current episode: 7400\n",
      "current episode: 7500\n",
      "current episode: 7600\n",
      "current episode: 7700\n",
      "current episode: 7800\n",
      "current episode: 7900\n",
      "current episode: 8000\n",
      "current episode: 8100\n",
      "current episode: 8200\n",
      "current episode: 8300\n",
      "current episode: 8400\n",
      "current episode: 8500\n",
      "current episode: 8600\n",
      "current episode: 8700\n",
      "current episode: 8800\n",
      "current episode: 8900\n",
      "current episode: 9000\n",
      "current episode: 9100\n",
      "current episode: 9200\n",
      "current episode: 9300\n",
      "current episode: 9400\n",
      "current episode: 9500\n",
      "current episode: 9600\n",
      "current episode: 9700\n",
      "current episode: 9800\n",
      "current episode: 9900\n",
      "Total reward of greedy strategy averaged over 10000 episodes: 8102.101958000696\n",
      "Total reward of epsilon greedy strategy averaged over 10000 episodes: 8504.632791995455\n"
     ]
    },
    {
     "data": {
      "image/png": "[encoded data removed]",
      "text/plain": [
       "<Figure size 640x480 with 1 Axes>"
      ]
     },
     "metadata": {},
     "output_type": "display_data"
    },
    {
     "name": "stdout",
     "output_type": "stream",
     "text": [
      "Enter:\n"
     ]
    }
   ],
   "source": [
    "import numpy as np\n",
    "import matplotlib.pyplot as plt\n",
    "import random\n",
    "\n",
    "\n",
    "class GaussianBandit:\n",
    "    def __init__(self):\n",
    "        self._arm_means = np.random.uniform(0., 1., 10)  # Sample some means\n",
    "        self.n_arms = len(self._arm_means)\n",
    "        self.rewards = []\n",
    "        self.total_played = 0\n",
    "\n",
    "    def reset(self):\n",
    "        self.rewards = []\n",
    "        self.total_played = 0\n",
    "\n",
    "    def play_arm(self, a):\n",
    "        # Use sampled mean and covariance of 1.\n",
    "        reward = np.random.normal(self._arm_means[a], 1.)\n",
    "        self.total_played += 1\n",
    "        self.rewards.append(reward)\n",
    "        return reward\n",
    "\n",
    "\n",
    "def greedy(bandit, timesteps):\n",
    "    rewards = np.zeros(bandit.n_arms)\n",
    "    n_plays = np.zeros(bandit.n_arms)\n",
    "    Q = np.zeros(bandit.n_arms)\n",
    "    possible_arms = range(bandit.n_arms)\n",
    "\n",
    "    # TODO: init variables (rewards, n_plays, Q) by playing each arm once\n",
    "    for i in range(bandit.n_arms):\n",
    "        reward = bandit.play_arm(i)\n",
    "        rewards[i] += reward\n",
    "        n_plays[i] += 1\n",
    "        Q[i] = rewards[i]/n_plays[i]\n",
    "\n",
    "    # Main loop\n",
    "    while bandit.total_played < timesteps:\n",
    "        # This example shows how to play a random arm:\n",
    "        '''\n",
    "        a = random.choice(possible_arms)\n",
    "        reward_for_a = bandit.play_arm(a)\n",
    "        '''\n",
    "        # TODO: instead do greedy action selection\n",
    "        a = np.argmax(Q)\n",
    "        reward = bandit.play_arm(a)\n",
    "\n",
    "        # TODO: update the variables (rewards, n_plays, Q) for the selected arm\n",
    "        rewards[a] += reward\n",
    "        n_plays[a] += 1\n",
    "        Q[a] = rewards[a]/n_plays[a]\n",
    "\n",
    "\n",
    "def epsilon_greedy(bandit, timesteps, eps):\n",
    "    # Inititialize\n",
    "    rewards = np.zeros(bandit.n_arms)\n",
    "    n_plays = np.zeros(bandit.n_arms)\n",
    "    Q = np.zeros(bandit.n_arms)\n",
    "    possible_arms = range(bandit.n_arms)\n",
    "\n",
    "    # TODO: init variables (rewards, n_plays, Q) by playing each arm once\n",
    "    for i in range(bandit.n_arms):\n",
    "        reward = bandit.play_arm(i)\n",
    "        rewards[i] += reward\n",
    "        n_plays[i] += 1\n",
    "        Q[i] = rewards[i]/n_plays[i]\n",
    "\n",
    "    # TODO: epsilon greedy action selection (you can copy your code for greedy as a starting point)\n",
    "\n",
    "    while bandit.total_played < timesteps:\n",
    "        x = np.random.uniform()  # Uniform random distribution between [0,1]\n",
    "\n",
    "        if x >= eps:  # Explore\n",
    "            a = random.choice(possible_arms)\n",
    "        else:         # Exploit\n",
    "            a = np.argmax(Q)\n",
    "\n",
    "        reward = bandit.play_arm(a)\n",
    "        rewards[a] += reward\n",
    "        n_plays[a] += 1\n",
    "        Q[a] = rewards[a]/n_plays[a]\n",
    "\n",
    "\n",
    "def main():\n",
    "    n_episodes = 10000  # TODO: set to 10000 to decrease noise in plot\n",
    "    n_timesteps = 10000\n",
    "\n",
    "    eps = 0.9\n",
    "    rewards_greedy = np.zeros(n_timesteps)\n",
    "    rewards_egreedy = np.zeros(n_timesteps)\n",
    "\n",
    "    for i in range(n_episodes):\n",
    "        if i % 100 == 0:\n",
    "            print(\"current episode: \" + str(i))\n",
    "\n",
    "        b = GaussianBandit()  # initializes a random bandit\n",
    "        greedy(b, n_timesteps)\n",
    "        rewards_greedy += b.rewards\n",
    "\n",
    "        b.reset()  # reset the bandit before running epsilon_greedy\n",
    "        epsilon_greedy(b, n_timesteps, eps)\n",
    "        rewards_egreedy += b.rewards\n",
    "\n",
    "    rewards_greedy /= n_episodes\n",
    "    rewards_egreedy /= n_episodes\n",
    "    plt.plot(rewards_greedy, label=\"greedy\")\n",
    "    print(\"Total reward of greedy strategy averaged over \" +\n",
    "          str(n_episodes) + \" episodes: \" + str(np.sum(rewards_greedy)))\n",
    "    plt.plot(rewards_egreedy, label=\"e-greedy\")\n",
    "    print(\"Total reward of epsilon greedy strategy averaged over \" +\n",
    "          str(n_episodes) + \" episodes: \" + str(np.sum(rewards_egreedy)))\n",
    "    plt.legend()\n",
    "    plt.xlabel(\"Timesteps\")\n",
    "    plt.ylabel(\"Reward\")\n",
    "    plt.savefig('bandit_strategies.png')\n",
    "    plt.show()\n",
    "    print(\"Enter:\")\n",
    "    input()\n",
    "\n",
    "\n",
    "if __name__ == \"__main__\":\n",
    "    main()"
   ]
  },
  {
   "cell_type": "code",
   "execution_count": null,
   "metadata": {},
   "outputs": [],
   "source": []
  }
 ],
 "metadata": {
  "kernelspec": {
   "display_name": "Python 3",
   "language": "python",
   "name": "python3"
  },
  "language_info": {
   "codemirror_mode": {
    "name": "ipython",
    "version": 3
   },
   "file_extension": ".py",
   "mimetype": "text/x-python",
   "name": "python",
   "nbconvert_exporter": "python",
   "pygments_lexer": "ipython3",
   "version": "3.10.11"
  },
  "orig_nbformat": 4
 },
 "nbformat": 4,
 "nbformat_minor": 2
}
